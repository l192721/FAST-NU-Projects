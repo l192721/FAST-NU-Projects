{
 "cells": [
  {
   "cell_type": "markdown",
   "id": "c268b63a-0d73-4957-bd04-47a71f9b9fcd",
   "metadata": {
    "tags": []
   },
   "source": [
    "<h1>Lahore Campus:-<h1>"
   ]
  },
  {
   "cell_type": "code",
   "execution_count": 1,
   "id": "4d817378-7f2d-4771-927e-a2f739259d46",
   "metadata": {
    "tags": []
   },
   "outputs": [],
   "source": [
    "import requests \n",
    "from bs4 import BeautifulSoup\n",
    "import pandas as pd"
   ]
  },
  {
   "cell_type": "code",
   "execution_count": 2,
   "id": "4e5a68e5-95a8-4fe8-8f12-f1750cf545fc",
   "metadata": {
    "tags": []
   },
   "outputs": [
    {
     "name": "stdout",
     "output_type": "stream",
     "text": [
      "<Response [200]>\n"
     ]
    }
   ],
   "source": [
    "URL = \"http://lhr.nu.edu.pk/faculty/\"\n",
    "r = requests.get(URL) \n",
    "print(r)"
   ]
  },
  {
   "cell_type": "code",
   "execution_count": 3,
   "id": "31a3586e-1774-40c5-ac45-a66958551856",
   "metadata": {
    "tags": []
   },
   "outputs": [],
   "source": [
    "soup = BeautifulSoup(r.content, 'html.parser') \n",
    "#print(soup.prettify())"
   ]
  },
  {
   "cell_type": "code",
   "execution_count": 4,
   "id": "7b2e54a5-9ef0-4a88-bc9b-c4c3d371ec92",
   "metadata": {
    "tags": []
   },
   "outputs": [],
   "source": [
    "f = soup.findAll('div', class_='facultyCard')"
   ]
  },
  {
   "cell_type": "code",
   "execution_count": 5,
   "id": "fd8b6f76-e5bd-4a90-a8fa-96c958cea2a7",
   "metadata": {
    "tags": []
   },
   "outputs": [],
   "source": [
    "#ID Name Designation HEC Highest Email Department Extension ImageURL\n",
    "id_=[]\n",
    "name=[]\n",
    "desig=[]\n",
    "hec_sup=[]\n",
    "#highest_edu=[]\n",
    "email=[]\n",
    "department=[]\n",
    "extension=[]\n",
    "img=[]\n",
    "profile_url=[]"
   ]
  },
  {
   "cell_type": "code",
   "execution_count": 6,
   "id": "e8cd96e5-6ffd-4411-baa9-1fc32c2e2ea7",
   "metadata": {
    "tags": []
   },
   "outputs": [],
   "source": [
    "for i in range(len(f)):\n",
    "    faculty = f[i]\n",
    "    try:\n",
    "        id_.append(int(faculty.find('a',class_='faculty-link')['href'].split('/')[-1]))\n",
    "    except:\n",
    "        id_.append(-1)\n",
    "    name.append(faculty.find('h5', class_='text-center').text)\n",
    "    desig.append(faculty.find('p',class_='small').text.strip().split('\\n')[0])\n",
    "    \n",
    "    st=faculty.find('p',class_='small').text\n",
    "    if (st.find(\"HEC Approved PhD Supervisor\"))==-1:\n",
    "        hec_sup.append(0)\n",
    "    else:\n",
    "        hec_sup.append(1)\n",
    "        \n",
    "    email.append(faculty.find('p', class_='mb-0').text)\n",
    "    department.append(\"FAST School of Computing Faculty\")\n",
    "    extension.append(-1)\n",
    "    img.append('https://lhr.nu.edu.pk'+faculty.find('img', class_='card-img-top')['src'])\n",
    "    profile_url.append('https://lhr.nu.edu.pk'+faculty.find('a',class_='faculty-link')['href'])"
   ]
  },
  {
   "cell_type": "code",
   "execution_count": 7,
   "id": "ad4de2f3-2a66-4fe6-b85a-79173c43172f",
   "metadata": {
    "tags": []
   },
   "outputs": [],
   "source": [
    "df1 = pd.DataFrame({'ID':id_,\n",
    "                  'Name':name,\n",
    "                  'Designation':desig,\n",
    "                  'HEC Supervisor':hec_sup,\n",
    "                  'Email':email,\n",
    "                  'Department':department,\n",
    "                  'Extension':extension,\n",
    "                  'Image':img,\n",
    "                  'Profile URL':profile_url})"
   ]
  },
  {
   "cell_type": "code",
   "execution_count": 8,
   "id": "a19bcec0-fc71-4cbd-9db2-b46680cfaab2",
   "metadata": {
    "tags": []
   },
   "outputs": [],
   "source": [
    "df1.to_csv('lhr.csv')"
   ]
  },
  {
   "cell_type": "markdown",
   "id": "a659f174-086a-4ff2-a7e9-64d29e8eb82a",
   "metadata": {
    "tags": []
   },
   "source": [
    "<h1>Karachi Campus:-<h1>"
   ]
  },
  {
   "cell_type": "code",
   "execution_count": 9,
   "id": "f5277dc1-78fc-49bb-8b0e-2ee1c8421696",
   "metadata": {
    "tags": []
   },
   "outputs": [
    {
     "name": "stdout",
     "output_type": "stream",
     "text": [
      "<Response [200]>\n"
     ]
    }
   ],
   "source": [
    "URL = \"https://khi.nu.edu.pk/faculty-php/\"\n",
    "r = requests.get(URL) \n",
    "print(r)"
   ]
  },
  {
   "cell_type": "code",
   "execution_count": 10,
   "id": "12c3f7e9-2241-46b7-ae14-67ae5ee0fdfc",
   "metadata": {
    "tags": []
   },
   "outputs": [],
   "source": [
    "soup = BeautifulSoup(r.content, 'html.parser') \n",
    "#print(soup.prettify())"
   ]
  },
  {
   "cell_type": "code",
   "execution_count": 11,
   "id": "c5b91e9b-587c-4c7d-b177-167a321f22a5",
   "metadata": {
    "tags": []
   },
   "outputs": [],
   "source": [
    "f = soup.findAll('div', class_='gdlr-core-personnel-list gdlr-core-outer-frame-element clearfix')"
   ]
  },
  {
   "cell_type": "code",
   "execution_count": 12,
   "id": "232874b4-3b98-4b48-85c9-330cd9980075",
   "metadata": {
    "tags": []
   },
   "outputs": [],
   "source": [
    "#ID Name Designation HEC Highest Email Department Extension ImageURL\n",
    "id_=[]\n",
    "name=[]\n",
    "desig=[]\n",
    "hec_sup=[]\n",
    "#highest_edu=[]\n",
    "email=[]\n",
    "department=[]\n",
    "extension=[]\n",
    "img=[]\n",
    "profile_url=[]"
   ]
  },
  {
   "cell_type": "code",
   "execution_count": 13,
   "id": "f82f3749-2610-43d1-a42b-ee9897e532a4",
   "metadata": {
    "tags": []
   },
   "outputs": [],
   "source": [
    "for i in range(len(f)):\n",
    "    faculty = f[i]\n",
    "    if(faculty.find('div',class_=\"gdlr-core-personnel-list-position gdlr-core-info-font gdlr-core-skin-caption\")!=-1):\n",
    "        id_.append(-1) #appending -1 only if there exists some box \n",
    "    name.append(faculty.text.split(',')[0])\n",
    "    desig.append(faculty.find('div',class_=\"gdlr-core-personnel-list-position gdlr-core-info-font gdlr-core-skin-caption\").text)\n",
    "    hec_sup.append(-1)\n",
    "    email.append(faculty.find('div',class_=\"kingster-personnel-info-list kingster-type-email\").text)\n",
    "    department.append(soup.find('h1',class_=\"kingster-page-title\").text)\n",
    "    extension.append(faculty.find('div',class_=\"kingster-personnel-info-list kingster-type-phone\").text)\n",
    "    try:\n",
    "        img.append(faculty.find('img')['src'])\n",
    "    except:\n",
    "        img.append(\"N/A\")\n",
    "    profile_url.append(faculty.find('a',)['href'])"
   ]
  },
  {
   "cell_type": "code",
   "execution_count": 14,
   "id": "244f925d-10e7-459c-a26e-ea7879ff8624",
   "metadata": {
    "tags": []
   },
   "outputs": [],
   "source": [
    "df2 = pd.DataFrame({'ID':id_,\n",
    "                  'Name':name,\n",
    "                  'Designation':desig,\n",
    "                  'HEC Supervisor':hec_sup,\n",
    "                  'Email':email,\n",
    "                  'Department':department,\n",
    "                  'Extension':extension,\n",
    "                  'Image':img,\n",
    "                  'Profile URL':profile_url})"
   ]
  },
  {
   "cell_type": "code",
   "execution_count": 15,
   "id": "d30d6e56-b745-4070-8110-68dc8188c478",
   "metadata": {
    "tags": []
   },
   "outputs": [],
   "source": [
    "df2.to_csv('khi.csv')"
   ]
  },
  {
   "cell_type": "markdown",
   "id": "55473a4f-61c3-418d-b836-3e66639f7c52",
   "metadata": {},
   "source": [
    "<h1>Islamabad Campus:-<h1>"
   ]
  },
  {
   "cell_type": "code",
   "execution_count": 16,
   "id": "6aae6fbb-c0eb-4eca-97b1-22f5e762ba42",
   "metadata": {
    "tags": []
   },
   "outputs": [],
   "source": [
    "URL = \"http://isb.nu.edu.pk/Faculty/allfaculty/\""
   ]
  },
  {
   "cell_type": "code",
   "execution_count": 17,
   "id": "37fcf139-630e-48e4-b652-09c65c9628cb",
   "metadata": {
    "tags": []
   },
   "outputs": [],
   "source": [
    "html_content=\"\"\"\n",
    "<html lang=\"en\"><head>\n",
    "    <meta charset=\"utf-8\">\n",
    "    <meta http-equiv=\"X-UA-Compatible\" content=\"IE=edge\">\n",
    "    <link href=\"https://fonts.googleapis.com/css?family=Tangerine\" rel=\"stylesheet\">\n",
    "    <link rel=\"icon\" href=\"/assets/Images/logo.png\" type=\"image/x-icon\">\n",
    "    <link rel=\"shortcut icon\" type=\"image/x-icon\" href=\"/assets/Images/logo.png\">\n",
    "    <title>FAST NUCES Islamabad</title>\n",
    "    <meta name=\"viewport\" content=\"width=device-width, initial-scale=1\">\n",
    "    <link href=\"/assets/css/assets?v=8x48N6TWkg4FUExQXS0jRuRAI4Sh6pTATFY2WpFX5As1\" rel=\"stylesheet\">\n",
    "\n",
    "    <link href=\"/assets/css/typography?v=W-aGnSsghynCeOpBMLSUYIaQvAzd9CVQRh0KnxwGQyU1\" rel=\"stylesheet\">\n",
    "\n",
    "    <link rel=\"stylesheet\" type=\"text/css\" href=\"/assets/css/shortcodes/shortcodes.css\">\n",
    "\n",
    "    <link rel=\"stylesheet\" type=\"text/css\" href=\"/assets/css/style12.css\">\n",
    "    <link class=\"skin\" rel=\"stylesheet\" type=\"text/css\" href=\"/assets/css/color/color-1.css\">\n",
    "    <link href=\"/bundles/REVOLUTION/assets?v=B-XTA_2iTFW1xsmA3kJzEG-r4yLUDcq87Y66F_kolm41\" rel=\"stylesheet\">\n",
    "\n",
    "    <link rel=\"stylesheet\" type=\"text/css\" href=\"/assets/vendors/revolution/css/settings.css\">\n",
    "    <link href=\"https://stackpath.bootstrapcdn.com/font-awesome/4.7.0/css/font-awesome.min.css\" rel=\"stylesheet\">\n",
    "    <link href=\"/assets/css/Top-Latest-update.css\" rel=\"stylesheet\">\n",
    "    <link href=\"/assets/css/Profile.css\" rel=\"stylesheet\">\n",
    "\n",
    "</head>\n",
    "<body id=\"bg\">\n",
    "    <div class=\"page-wraper\">\n",
    "        \n",
    "\n",
    "        <header class=\"header rs-nav\" style=\"height: 90px;\">\n",
    "            \n",
    "            <div class=\"sticky-header navbar-expand-lg\">\n",
    "                <div class=\"menu-bar clearfix\" style=\"padding: 5px 0px;\">\n",
    "                    <div class=\"container-fluid clearfix\">\n",
    "                        <div class=\"menu-logo\">\n",
    "                            <a href=\"/\"><img src=\"/assets/images/logo.png\" alt=\"\"></a>\n",
    "                        </div>\n",
    "                        <button class=\"navbar-toggler collapsed menuicon justify-content-end\" type=\"button\" data-toggle=\"collapse\" data-target=\"#menuDropdown\" aria-controls=\"menuDropdown\" aria-expanded=\"false\" aria-label=\"Toggle navigation\">\n",
    "                            <span></span>\n",
    "                            <span></span>\n",
    "                            <span></span>\n",
    "                        </button>\n",
    "                        <div class=\"menu-links navbar-collapse collapse justify-content-start\" id=\"menuDropdown\">\n",
    "                            <div class=\"menu-logo\">\n",
    "                                <a href=\"/\"><img src=\"/assets/Images/NU-logo.jpg\" alt=\"\"></a>\n",
    "                            </div>\n",
    "                            <ul class=\"nav navbar-nav\">\n",
    "                                <li class=\"active\"><a href=\"/Home/Home\">Home</a></li>\n",
    "                                \n",
    "\n",
    "                                <li>\n",
    "                                    <a href=\"javascript:;\">Academics <i class=\"fa fa-chevron-down\"></i></a>\n",
    "                                    <ul class=\"sub-menu\">\n",
    "                                        <li><a href=\"/Faculty/allfaculty#cs\">Computer Science</a></li>\n",
    "                                        <li><a href=\"/Faculty/allfaculty#ee\">Electrical Engineering</a></li>\n",
    "                                        <li><a href=\"/Faculty/allfaculty#ms\">Management Sciences</a></li>\n",
    "                                        <li><a href=\"/Faculty/allfaculty#sh\">Science &amp; Humanities </a></li>\n",
    "                                    </ul>\n",
    "                                </li>\n",
    "                                <li>\n",
    "                                    <a href=\"javascript:;\">Admissions <i class=\"fa fa-chevron-down\"></i></a>\n",
    "                                    <ul class=\"sub-menu\">\n",
    "                                        <li><a href=\"/Admission/Schedule\">Admission Schedule</a></li>\n",
    "\t\t\t\t\t\t\t\t\t\t <li><a href=\"http://nu.edu.pk/Degree-Programs\">Degree Programs</a></li>\n",
    "\t\t\t\t\t\t\t\t\t\t\n",
    "                                        <!--<li><a href=\"/Admission/DegreePrograms\">Degree Programs</a></li>-->\n",
    "                                        <li><a href=\"/Admission/eligibility\">Eligibility Criteria</a></li>\n",
    "                                        <li><a href=\"/Admission/feeStructure\">Fee structure</a></li>\n",
    "                                        <li><a href=\"/Admission/HowToApply\">How To Apply</a></li>\n",
    "                                    </ul>\n",
    "                                </li>\n",
    "                                <li>\n",
    "                                    <a href=\"javascript:;\">Students <i class=\"fa fa-chevron-down\"></i></a>\n",
    "                                    <ul class=\"sub-menu\">\n",
    "                                        <li><a target=\"_blank\" href=\"https://flexstudent.nu.edu.pk/Login\">Student Portal</a></li>\n",
    "                                        <li><a href=\"/Student/Calender\">Academic Calender</a></li>\n",
    "                                        <li><a href=\"/Student/Grading\">Academic Grading</a></li>\n",
    "                                        <li><a href=\"/Student/Conduct\">Code of Conduct</a></li>\n",
    "                                        <li><a href=\"/Student/dvp\">Degree Verification Program</a></li>\n",
    "                                        <li><a href=\"/Student/FinancialRules\">Financial Rules</a></li>\n",
    "                                        <li><a target=\"_blank\" href=\"http://isb.nu.edu.pk/Student/FYP\">FYP</a></li>\n",
    "                                        <li><a href=\"/Student/HECEquivalence\">HEC Equivalence</a></li>\n",
    "                                        <li><a target=\"_blank\" href=\"http://isb.nu.edu.pk/onestop\">One Stop</a></li>\n",
    "                                        <li><a href=\"/Student/PhdGraduates\">Phd Graduates</a></li>\n",
    "                                        <li><a href=\"/Student/Rules\">Rules &amp; Regulations</a></li>\n",
    "                                        <li><a href=\"/Student/TimeTable\">Time Table</a></li>\n",
    "                                        <li><a target=\"_blank\" href=\"http://www.digitallibrary.edu.pk/natunicomp_emrgsc.html\">HEC Digital Library</a></li>\n",
    "\n",
    "                                    </ul>\n",
    "                                </li>\n",
    "                                <li>\n",
    "                                    <a href=\"javascript:;\">Services <i class=\"fa fa-chevron-down\"></i></a>\n",
    "                                    <ul class=\"sub-menu\">\n",
    "                                        <li><a href=\"/Services/Acc\">Accounts</a></li>\n",
    "                                        <li><a href=\"/Services/Administration\">Administration</a></li>\n",
    "                                        <li>\n",
    "                                            <a href=\"javascript:;\">Career Services Office<i class=\"fa fa-angle-right\"></i></a>\n",
    "                                            <ul class=\"sub-menu\">\n",
    "                                                <li><a href=\"/Services/CSO\">Staff</a></li>\n",
    "                                                <li><a href=\"/Media/EventsList?DeptID=310\">Events</a></li>\n",
    "                                            </ul>\n",
    "                                        </li>\n",
    "                                        <li>\n",
    "                                            <a href=\"/Services/CAO\">Central Academic Office</a>\n",
    "\n",
    "                                        </li>\n",
    "                                        <li><a href=\"/Services/DO\">Director Office</a></li>\n",
    "                                        <li>\n",
    "                                            <a href=\"javascript:;\">Human Resources<i class=\"fa fa-angle-right\"></i></a>\n",
    "                                            <ul class=\"sub-menu\">\n",
    "                                                <li><a href=\"/Services/HR\">Staff</a></li>\n",
    "                                                <li><a href=\"/Media/EventsList?DeptID=308\">Events</a></li>\n",
    "                                            </ul>\n",
    "                                        </li>\n",
    "                                        <li><a href=\"/Services/IT\">IT &amp; Networks</a></li>\n",
    "                                        <li><a href=\"/Services/Lib\">Library</a></li>\n",
    "                                        \n",
    "                                        <li><a href=\"/Services/QEC\">QEC</a></li>\n",
    "                                        <li><a href=\"/Services/SA\">Student Affairs</a></li>\n",
    "                                    </ul>\n",
    "                                </li>\n",
    "                                <li>\n",
    "                                    <a href=\"javascript:;\">Media <i class=\"fa fa-chevron-down\"></i></a>\n",
    "                                    <ul class=\"sub-menu\">\n",
    "                                        <li><a href=\"/Media/Career\">Career</a></li>\n",
    "                                        <li><a href=\"/Media/Procurement\">Procurement</a></li>\n",
    "                                        <li><a href=\"/Media/NewsList\">Press Release</a></li>\n",
    "                                        <li><a href=\"/Media/PhotoGallery\">Photo Gallery</a></li>\n",
    "                                        <li><a href=\"/Media/VedioGallery\">Video Gallery</a></li>\n",
    "                                    </ul>\n",
    "                                </li>\n",
    "                                <li><a href=\"/Research/Research\">Research</a></li>\n",
    "                                <!-- <li><a href=\"~/CSO/CSO\">Career Services Office</a></li> CSO Micro Website-->\n",
    "                                <li><a href=\"/Home/Contact\">Contact Us</a></li>\n",
    "                            </ul>\n",
    "                        </div>\n",
    "                    </div>\n",
    "                </div>\n",
    "            </div>\n",
    "        </header>\n",
    "        <div class=\"page-content bg-white\">\n",
    "            \n",
    "\n",
    "\n",
    "<link href=\"/assets/css/Profile.css\" rel=\"stylesheet\">\n",
    "\n",
    "<ol class=\"breadcrumb\">\n",
    "    <li class=\"breadcrumb-item\"><a href=\"/Home/Home\">Faculty</a></li>\n",
    "    <li class=\"breadcrumb-item active\">\n",
    "        Computing\n",
    "    </li>\n",
    "</ol>\n",
    "\n",
    "<div class=\"content-block\">\n",
    "\t\n",
    "    <div class=\"container\" id=\"cs\">\n",
    "        <div class=\"row blog\">\n",
    "            <h3>\n",
    "                <div class=\"animated fadeInLeft\">Computing</div>\n",
    "                <div class=\"animated fadeInRight\">Faculty</div>\n",
    "            </h3>\n",
    "\t\t\t\t\n",
    "            <div class=\"col-md-12\">\n",
    "                <div class=\"row\" id=\"facultyCS\"><div class=\"col-lg-3 col-md-6 col-sm-6\" style=\"margin-top:20px;\"><div class=\"our-team\"><div class=\"pic\"><img id=\"myImage4553\" src=\"/Images/Profile/CS/4553.jpg\"></div><div class=\"team-content\"><h3 class=\"title\">Waseem Shahzad</h3><span class=\"post\">Director &amp; Professor</span> <p>waseem.shahzad@nu.edu.pk</p><br></div><ul class=\"social\"><li><a href=\"/Faculty/Details/4553\" target=\"_blank\" style=\"font-style: italic;\">More...</a></li></ul></div></div><div class=\"col-lg-3 col-md-6 col-sm-6\" style=\"margin-top:20px;\"><div class=\"our-team\"><div class=\"pic\"><img id=\"myImage3629\" src=\"/Images/Profile/CS/36292021-01-21_23.28.18.jpg\"></div><div class=\"team-content\"><h3 class=\"title\">Kashif Munir</h3><span class=\"post\">Head, School of Computing &amp; Professor</span> <p>kashif.munir@nu.edu.pk</p><br></div><ul class=\"social\"><li><a href=\"/Faculty/Details/3629\" target=\"_blank\" style=\"font-style: italic;\">More...</a></li></ul></div></div><div class=\"col-lg-3 col-md-6 col-sm-6\" style=\"margin-top:20px;\"><div class=\"our-team\"><div class=\"pic\"><img id=\"myImage4400\" src=\"/Images/Profile/CS/4400.jpg\"></div><div class=\"team-content\"><h3 class=\"title\">Hammad Majeed</h3><span class=\"post\">HoD (Computer Science) &amp; Professor</span> <p>hammad.majeed@nu.edu.pk</p><br></div><ul class=\"social\"><li><a href=\"/Faculty/Details/4400\" target=\"_blank\" style=\"font-style: italic;\">More...</a></li></ul></div></div><div class=\"col-lg-3 col-md-6 col-sm-6\" style=\"margin-top:20px;\"><div class=\"our-team\"><div class=\"pic\"><img id=\"myImage5099\" src=\"/Images/Profile/CS/5099.jpg\"></div><div class=\"team-content\"><h3 class=\"title\">Muhammad Asim</h3><span class=\"post\">HoD (Cyber Security) &amp; Professor</span> <p>muhammad.asim@nu.edu.pk</p><br></div><ul class=\"social\"><li><a href=\"/Faculty/Details/5099\" target=\"_blank\" style=\"font-style: italic;\">More...</a></li></ul></div></div><div class=\"col-lg-3 col-md-6 col-sm-6\" style=\"margin-top:20px;\"><div class=\"our-team\"><div class=\"pic\"><img id=\"myImage4551\" src=\"/Images/Profile/CS/4551.jpg\"></div><div class=\"team-content\"><h3 class=\"title\">Hasan Mujtaba Kiyani</h3><span class=\"post\">HoD (Artificial Intelligence &amp; Data Science) &amp; Professor</span> <p>hasan.mujtaba@nu.edu.pk </p><br></div><ul class=\"social\"><li><a href=\"/Faculty/Details/4551\" target=\"_blank\" style=\"font-style: italic;\">More...</a></li></ul></div></div><div class=\"col-lg-3 col-md-6 col-sm-6\" style=\"margin-top:20px;\"><div class=\"our-team\"><div class=\"pic\"><img id=\"myImage5689\" src=\"/Images/Profile/CS/5689.jpg\"></div><div class=\"team-content\"><h3 class=\"title\">Naveed Ahmad</h3><span class=\"post\">HoD (Software Engineering) &amp; Professor</span> <p>naveed.ahmad@nu.edu.pk</p><br></div><ul class=\"social\"><li><a href=\"/Faculty/Details/5689\" target=\"_blank\" style=\"font-style: italic;\">More...</a></li></ul></div></div><div class=\"col-lg-3 col-md-6 col-sm-6\" style=\"margin-top:20px;\"><div class=\"our-team\"><div class=\"pic\"><img id=\"myImage5002\" src=\"/Images/Profile/CS/50022020-09-30_00.03.16.jpg\"></div><div class=\"team-content\"><h3 class=\"title\">Aftab Maroof</h3><span class=\"post\">Professor</span> <p>aftab.maroof@nu.edu.pk</p><br></div><ul class=\"social\"><li><a href=\"/Faculty/Details/5002\" target=\"_blank\" style=\"font-style: italic;\">More...</a></li></ul></div></div><div class=\"col-lg-3 col-md-6 col-sm-6\" style=\"margin-top:20px;\"><div class=\"our-team\"><div class=\"pic\"><img id=\"myImage5724\" src=\"/Images/Profile/CS/5724.jpg\"></div><div class=\"team-content\"><h3 class=\"title\">Muhammad Arshad Islam</h3><span class=\"post\">Professor</span> <p>arshad.islam@nu.edu.pk</p><br></div><ul class=\"social\"><li><a href=\"/Faculty/Details/5724\" target=\"_blank\" style=\"font-style: italic;\">More...</a></li></ul></div></div><div class=\"col-lg-3 col-md-6 col-sm-6\" style=\"margin-top:20px;\"><div class=\"our-team\"><div class=\"pic\"><img id=\"myImage5783\" src=\"/Images/Profile/CS/5783.jpg\"></div><div class=\"team-content\"><h3 class=\"title\">Muhammad Asif Naeem</h3><span class=\"post\">Professor</span> <p>asif.naeem@nu.edu.pk</p><br></div><ul class=\"social\"><li><a href=\"/Faculty/Details/5783\" target=\"_blank\" style=\"font-style: italic;\">More...</a></li></ul></div></div><div class=\"col-lg-3 col-md-6 col-sm-6\" style=\"margin-top:20px;\"><div class=\"our-team\"><div class=\"pic\"><img id=\"myImage5823\" src=\"/Images/Profile/CS/5823.jpg\"></div><div class=\"team-content\"><h3 class=\"title\">Muhammad Aleem </h3><span class=\"post\">Professor</span> <p>m.aleem@nu.edu.pk</p><br></div><ul class=\"social\"><li><a href=\"/Faculty/Details/5823\" target=\"_blank\" style=\"font-style: italic;\">More...</a></li></ul></div></div><div class=\"col-lg-3 col-md-6 col-sm-6\" style=\"margin-top:20px;\"><div class=\"our-team\"><div class=\"pic\"><img id=\"myImage6259\" src=\"/Images/Profile/CS/6259.jpg\"></div><div class=\"team-content\"><h3 class=\"title\">Ahmad Raza Shahid</h3><span class=\"post\">Professor</span> <p>ahmadraza.shahid@nu.edu.pk </p><br></div><ul class=\"social\"><li><a href=\"/Faculty/Details/6259\" target=\"_blank\" style=\"font-style: italic;\">More...</a></li></ul></div></div><div class=\"col-lg-3 col-md-6 col-sm-6\" style=\"margin-top:20px;\"><div class=\"our-team\"><div class=\"pic\"><img id=\"myImage9214\" src=\"/Images/Profile/CS/9214.jpg\"></div><div class=\"team-content\"><h3 class=\"title\">Mirza Omer Beg</h3><span class=\"post\">Professor</span> <p>omer.beg@nu.edu.pk</p><br></div><ul class=\"social\"><li><a href=\"/Faculty/Details/9214\" target=\"_blank\" style=\"font-style: italic;\">More...</a></li></ul></div></div><div class=\"col-lg-3 col-md-6 col-sm-6\" style=\"margin-top:20px;\"><div class=\"our-team\"><div class=\"pic\"><img id=\"myImage6478\" src=\"/Images/Profile/CS/6478.jpg\"></div><div class=\"team-content\"><h3 class=\"title\">Ahmad Din\n",
    "</h3><span class=\"post\">Associate Professor</span> <p>ahmad.din@nu.edu.pk\n",
    "</p><br></div><ul class=\"social\"><li><a href=\"/Faculty/Details/6478\" target=\"_blank\" style=\"font-style: italic;\">More...</a></li></ul></div></div><div class=\"col-lg-3 col-md-6 col-sm-6\" style=\"margin-top:20px;\"><div class=\"our-team\"><div class=\"pic\"><img id=\"myImage6479\" src=\"/Images/Profile/CS/6479.jpg\"></div><div class=\"team-content\"><h3 class=\"title\">Mohsin Bilal\n",
    "</h3><span class=\"post\">Associate Professor</span> <p>mohsin.bilal@nu.edu.pk</p><br></div><ul class=\"social\"><li><a href=\"/Faculty/Details/6479\" target=\"_blank\" style=\"font-style: italic;\">More...</a></li></ul></div></div><div class=\"col-lg-3 col-md-6 col-sm-6\" style=\"margin-top:20px;\"><div class=\"our-team\"><div class=\"pic\"><img id=\"myImage6026\" src=\"/Images/Profile/CS/60262021-01-24_23.07.00.jpg\"></div><div class=\"team-content\"><h3 class=\"title\">Mudassar Aslam</h3><span class=\"post\">Associate Professor</span> <p>mudassar.aslam@nu.edu.pk</p><br></div><ul class=\"social\"><li><a href=\"/Faculty/Details/6026\" target=\"_blank\" style=\"font-style: italic;\">More...</a></li></ul></div></div><div class=\"col-lg-3 col-md-6 col-sm-6\" style=\"margin-top:20px;\"><div class=\"our-team\"><div class=\"pic\"><img id=\"myImage5791\" src=\"/Images/Profile/CS/5791.jpg\"></div><div class=\"team-content\"><h3 class=\"title\">Noreen Jamil </h3><span class=\"post\">Associate Professor</span> <p>noreen.jamil@nu.edu.pk</p><br></div><ul class=\"social\"><li><a href=\"/Faculty/Details/5791\" target=\"_blank\" style=\"font-style: italic;\">More...</a></li></ul></div></div><div class=\"col-lg-3 col-md-6 col-sm-6\" style=\"margin-top:20px;\"><div class=\"our-team\"><div class=\"pic\"><img id=\"myImage6139\" src=\"/Images/Profile/CS/6139_20211001.jpg\"></div><div class=\"team-content\"><h3 class=\"title\">Akhtar Jamil</h3><span class=\"post\">Associate Professor</span> <p>akhtar.jamil@nu.edu.pk</p><br></div><ul class=\"social\"><li><a href=\"/Faculty/Details/6139\" target=\"_blank\" style=\"font-style: italic;\">More...</a></li></ul></div></div><div class=\"col-lg-3 col-md-6 col-sm-6\" style=\"margin-top:20px;\"><div class=\"our-team\"><div class=\"pic\"><img id=\"myImage5690\" src=\"/Images/Profile/CS/5690.jpg\"></div><div class=\"team-content\"><h3 class=\"title\">Shujaat Hussain Kausar</h3><span class=\"post\">Associate Professor</span> <p>shujaat.hussain@nu.edu.pk</p><br></div><ul class=\"social\"><li><a href=\"/Faculty/Details/5690\" target=\"_blank\" style=\"font-style: italic;\">More...</a></li></ul></div></div><div class=\"col-lg-3 col-md-6 col-sm-6\" style=\"margin-top:20px;\"><div class=\"our-team\"><div class=\"pic\"><img id=\"myImage5586\" src=\"/Images/Profile/CS/5586_20211001.jpg\"></div><div class=\"team-content\"><h3 class=\"title\">Khubaib Amjad </h3><span class=\"post\">Associate Professor</span> <p>khubaib.amjad@nu.edu.pk </p><br></div><ul class=\"social\"><li><a href=\"/Faculty/Details/5586\" target=\"_blank\" style=\"font-style: italic;\">More...</a></li></ul></div></div><div class=\"col-lg-3 col-md-6 col-sm-6\" style=\"margin-top:20px;\"><div class=\"our-team\"><div class=\"pic\"><img id=\"myImage5643\" src=\"/Images/Profile/CS/5643.jpg\"></div><div class=\"team-content\"><h3 class=\"title\">Kifayat Ullah Khan</h3><span class=\"post\">Associate Professor</span> <p>kifayat.alizai@nu.edu.pk</p><br></div><ul class=\"social\"><li><a href=\"/Faculty/Details/5643\" target=\"_blank\" style=\"font-style: italic;\">More...</a></li></ul></div></div><div class=\"col-lg-3 col-md-6 col-sm-6\" style=\"margin-top:20px;\"><div class=\"our-team\"><div class=\"pic\"><img id=\"myImage5249\" src=\"/Images/Profile/CS/5249.jpg\"></div><div class=\"team-content\"><h3 class=\"title\">Labiba Fahad</h3><span class=\"post\">Associate Professor</span> <p>labiba.fahad@nu.edu.pk</p><br></div><ul class=\"social\"><li><a href=\"/Faculty/Details/5249\" target=\"_blank\" style=\"font-style: italic;\">More...</a></li></ul></div></div><div class=\"col-lg-3 col-md-6 col-sm-6\" style=\"margin-top:20px;\"><div class=\"our-team\"><div class=\"pic\"><img id=\"myImage5196\" src=\"/Images/Profile/CS/5196.jpg\"></div><div class=\"team-content\"><h3 class=\"title\">Irum Inayat</h3><span class=\"post\">Associate Professor</span> <p>irum.inayat@nu.edu.pk</p><br></div><ul class=\"social\"><li><a href=\"/Faculty/Details/5196\" target=\"_blank\" style=\"font-style: italic;\">More...</a></li></ul></div></div><div class=\"col-lg-3 col-md-6 col-sm-6\" style=\"margin-top:20px;\"><div class=\"our-team\"><div class=\"pic\"><img id=\"myImage5200\" src=\"/Images/Profile/CS/5200.jpg\"></div><div class=\"team-content\"><h3 class=\"title\">Usman Habib\n",
    "</h3><span class=\"post\">Associate Professor</span> <p>usman.habib@nu.edu.pk</p><br></div><ul class=\"social\"><li><a href=\"/Faculty/Details/5200\" target=\"_blank\" style=\"font-style: italic;\">More...</a></li></ul></div></div><div class=\"col-lg-3 col-md-6 col-sm-6\" style=\"margin-top:20px;\"><div class=\"our-team\"><div class=\"pic\"><img id=\"myImage4708\" src=\"/Images/Profile/CS/4708.jpg\"></div><div class=\"team-content\"><h3 class=\"title\">Uzair Khan</h3><span class=\"post\">Associate Professor</span> <p>uzair.khan@nu.edu.pk</p><br></div><ul class=\"social\"><li><a href=\"/Faculty/Details/4708\" target=\"_blank\" style=\"font-style: italic;\">More...</a></li></ul></div></div><div class=\"col-lg-3 col-md-6 col-sm-6\" style=\"margin-top:20px;\"><div class=\"our-team\"><div class=\"pic\"><img id=\"myImage4894\" src=\"/Images/Profile/CS/4894.jpg\"></div><div class=\"team-content\"><h3 class=\"title\">Ejaz Ahmed</h3><span class=\"post\">Associate Professor</span> <p>ejaz.ahmed@nu.edu.pk</p><br></div><ul class=\"social\"><li><a href=\"/Faculty/Details/4894\" target=\"_blank\" style=\"font-style: italic;\">More...</a></li></ul></div></div><div class=\"col-lg-3 col-md-6 col-sm-6\" style=\"margin-top:20px;\"><div class=\"our-team\"><div class=\"pic\"><img id=\"myImage6297\" src=\"/Images/Profile/CS/6297.jpg\"></div><div class=\"team-content\"><h3 class=\"title\">Qaisar Shafi</h3><span class=\"post\">Assistant Professor</span> <p>qaisar.shafi@nu.edu.pk </p><br></div><ul class=\"social\"><li><a href=\"/Faculty/Details/6297\" target=\"_blank\" style=\"font-style: italic;\">More...</a></li></ul></div></div><div class=\"col-lg-3 col-md-6 col-sm-6\" style=\"margin-top:20px;\"><div class=\"our-team\"><div class=\"pic\"><img id=\"myImage4401\" src=\"/Images/Profile/CS/4401.jpg\"></div><div class=\"team-content\"><h3 class=\"title\">Atif Aftab Ahmed Jilani</h3><span class=\"post\">Assistant Professor</span> <p>atif.jilani@nu.edu.pk</p><br></div><ul class=\"social\"><li><a href=\"/Faculty/Details/4401\" target=\"_blank\" style=\"font-style: italic;\">More...</a></li></ul></div></div><div class=\"col-lg-3 col-md-6 col-sm-6\" style=\"margin-top:20px;\"><div class=\"our-team\"><div class=\"pic\"><img id=\"myImage4549\" src=\"/Images/Profile/CS/4549.jpg\"></div><div class=\"team-content\"><h3 class=\"title\">Noor Ul Ain</h3><span class=\"post\">Assistant Professor</span> <p>noorul.ain@nu.edu.pk</p><br></div><ul class=\"social\"><li><a href=\"/Faculty/Details/4549\" target=\"_blank\" style=\"font-style: italic;\">More...</a></li></ul></div></div><div class=\"col-lg-3 col-md-6 col-sm-6\" style=\"margin-top:20px;\"><div class=\"our-team\"><div class=\"pic\"><img id=\"myImage3949\" src=\"/Images/Profile/CS/3949.jpg\"></div><div class=\"team-content\"><h3 class=\"title\">Mehreen Alam</h3><span class=\"post\">Assistant Professor</span> <p>mehreen.alam@nu.edu.pk</p><br></div><ul class=\"social\"><li><a href=\"/Faculty/Details/3949\" target=\"_blank\" style=\"font-style: italic;\">More...</a></li></ul></div></div><div class=\"col-lg-3 col-md-6 col-sm-6\" style=\"margin-top:20px;\"><div class=\"our-team\"><div class=\"pic\"><img id=\"myImage4129\" src=\"/Images/Profile/CS/4129.jpg\"></div><div class=\"team-content\"><h3 class=\"title\">Amna Basharat</h3><span class=\"post\">Assistant Professor</span> <p>amna.basharat@nu.edu.pk</p><br></div><ul class=\"social\"><li><a href=\"/Faculty/Details/4129\" target=\"_blank\" style=\"font-style: italic;\">More...</a></li></ul></div></div><div class=\"col-lg-3 col-md-6 col-sm-6\" style=\"margin-top:20px;\"><div class=\"our-team\"><div class=\"pic\"><img id=\"myImage4381\" src=\"/Images/Profile/CS/4381.jpg\"></div><div class=\"team-content\"><h3 class=\"title\">Jawad Hassan Nisar</h3><span class=\"post\">Assistant Professor</span> <p>jawad.hassan@nu.edu.pk</p><br></div><ul class=\"social\"><li><a href=\"/Faculty/Details/4381\" target=\"_blank\" style=\"font-style: italic;\">More...</a></li></ul></div></div><div class=\"col-lg-3 col-md-6 col-sm-6\" style=\"margin-top:20px;\"><div class=\"our-team\"><div class=\"pic\"><img id=\"myImage5250\" src=\"/Images/Profile/CS/5250.jpg\"></div><div class=\"team-content\"><h3 class=\"title\">Amna Irum</h3><span class=\"post\">Assistant Professor</span> <p>amna.irum@nu.edu.pk</p><br></div><ul class=\"social\"><li><a href=\"/Faculty/Details/5250\" target=\"_blank\" style=\"font-style: italic;\">More...</a></li></ul></div></div><div class=\"col-lg-3 col-md-6 col-sm-6\" style=\"margin-top:20px;\"><div class=\"our-team\"><div class=\"pic\"><img id=\"myImage5425\" src=\"/Images/Profile/CS/5425.jpg\"></div><div class=\"team-content\"><h3 class=\"title\">Muhammad Adnan Tariq</h3><span class=\"post\">Assistant Professor</span> <p>muhammad.adnan@nu.edu.pk</p><br></div><ul class=\"social\"><li><a href=\"/Faculty/Details/5425\" target=\"_blank\" style=\"font-style: italic;\">More...</a></li></ul></div></div><div class=\"col-lg-3 col-md-6 col-sm-6\" style=\"margin-top:20px;\"><div class=\"our-team\"><div class=\"pic\"><img id=\"myImage6131\" src=\"/Images/Profile/CS/6131_20211001.jpg\"></div><div class=\"team-content\"><h3 class=\"title\">Muhammad Muneeb Ullah </h3><span class=\"post\">Assistant Professor</span> <p>muneeb.ullah@nu.edu.pk </p><br></div><ul class=\"social\"><li><a href=\"/Faculty/Details/6131\" target=\"_blank\" style=\"font-style: italic;\">More...</a></li></ul></div></div><div class=\"col-lg-3 col-md-6 col-sm-6\" style=\"margin-top:20px;\"><div class=\"our-team\"><div class=\"pic\"><img id=\"myImage6134\" src=\"/Images/Profile/CS/6134.jpg\"></div><div class=\"team-content\"><h3 class=\"title\">Uzair Iqbal\n",
    "</h3><span class=\"post\">Assistant Professor</span> <p>uzair.iqbal@nu.edu.pk\n",
    "</p><br></div><ul class=\"social\"><li><a href=\"/Faculty/Details/6134\" target=\"_blank\" style=\"font-style: italic;\">More...</a></li></ul></div></div><div class=\"col-lg-3 col-md-6 col-sm-6\" style=\"margin-top:20px;\"><div class=\"our-team\"><div class=\"pic\"><img id=\"myImage6079\" src=\"/Images/Profile/CS/60792021-04-21_08.47.08.JPG\"></div><div class=\"team-content\"><h3 class=\"title\">Behjat Zuhaira</h3><span class=\"post\">Assistant Professor</span> <p>behjat.zuhaira@nu.edu.pk</p><br></div><ul class=\"social\"><li><a href=\"/Faculty/Details/6079\" target=\"_blank\" style=\"font-style: italic;\">More...</a></li></ul></div></div><div class=\"col-lg-3 col-md-6 col-sm-6\" style=\"margin-top:20px;\"><div class=\"our-team\"><div class=\"pic\"><img id=\"myImage5815\" src=\"/Images/Profile/CS/5815.jpg\"></div><div class=\"team-content\"><h3 class=\"title\">Amina Asif </h3><span class=\"post\">Assistant Professor</span> <p>amina.asif@nu.edu.pk</p><br></div><ul class=\"social\"><li><a href=\"/Faculty/Details/5815\" target=\"_blank\" style=\"font-style: italic;\">More...</a></li></ul></div></div><div class=\"col-lg-3 col-md-6 col-sm-6\" style=\"margin-top:20px;\"><div class=\"our-team\"><div class=\"pic\"><img id=\"myImage5829\" src=\"/Images/Profile/CS/5829.jpg\"></div><div class=\"team-content\"><h3 class=\"title\">Muhammad Faisal Cheema</h3><span class=\"post\">Assistant Professor</span> <p>faisal.cheema@nu.edu.pk</p><br></div><ul class=\"social\"><li><a href=\"/Faculty/Details/5829\" target=\"_blank\" style=\"font-style: italic;\">More...</a></li></ul></div></div><div class=\"col-lg-3 col-md-6 col-sm-6\" style=\"margin-top:20px;\"><div class=\"our-team\"><div class=\"pic\"><img id=\"myImage5830\" src=\"/Images/Profile/CS/5830.jpg\"></div><div class=\"team-content\"><h3 class=\"title\">Subhan Ullah</h3><span class=\"post\">Assistant Professor</span> <p>subhan.ullah@nu.edu.pk</p><br></div><ul class=\"social\"><li><a href=\"/Faculty/Details/5830\" target=\"_blank\" style=\"font-style: italic;\">More...</a></li></ul></div></div><div class=\"col-lg-3 col-md-6 col-sm-6\" style=\"margin-top:20px;\"><div class=\"our-team\"><div class=\"pic\"><img id=\"myImage6032\" src=\"/Images/Profile/CS/60322021-02-08_00.56.12.png\"></div><div class=\"team-content\"><h3 class=\"title\">Zainab Abaid</h3><span class=\"post\">Assistant Professor</span> <p>zainab.abaid@nu.edu.pk</p><br></div><ul class=\"social\"><li><a href=\"/Faculty/Details/6032\" target=\"_blank\" style=\"font-style: italic;\">More...</a></li></ul></div></div><div class=\"col-lg-3 col-md-6 col-sm-6\" style=\"margin-top:20px;\"><div class=\"our-team\"><div class=\"pic\"><img id=\"myImage6579\" src=\"/Images/Profile/CS/6579.jpg\"></div><div class=\"team-content\"><h3 class=\"title\">Ramoza Ahsan\n",
    "</h3><span class=\"post\">Assistant Professor</span> <p>ramoza.ahsan@nu.edu.pk\n",
    "</p><br></div><ul class=\"social\"><li><a href=\"/Faculty/Details/6579\" target=\"_blank\" style=\"font-style: italic;\">More...</a></li></ul></div></div><div class=\"col-lg-3 col-md-6 col-sm-6\" style=\"margin-top:20px;\"><div class=\"our-team\"><div class=\"pic\"><img id=\"myImage6606\" src=\"/Images/Profile/CS/6606.jpg\"></div><div class=\"team-content\"><h3 class=\"title\">Isma ul Hassan</h3><span class=\"post\">Assistant Professor</span> <p>isma.hassan@nu.edu.pk</p><br></div><ul class=\"social\"><li><a href=\"/Faculty/Details/6606\" target=\"_blank\" style=\"font-style: italic;\">More...</a></li></ul></div></div><div class=\"col-lg-3 col-md-6 col-sm-6\" style=\"margin-top:20px;\"><div class=\"our-team\"><div class=\"pic\"><img id=\"myImage6283\" src=\"/Images/Profile/CS/6283.jpg\"></div><div class=\"team-content\"><h3 class=\"title\">Hassan sartaj </h3><span class=\"post\">Assistant Professor</span> <p>hassan.sartaj@nu.edu.pk </p><br></div><ul class=\"social\"><li><a href=\"/Faculty/Details/6283\" target=\"_blank\" style=\"font-style: italic;\">More...</a></li></ul></div></div><div class=\"col-lg-3 col-md-6 col-sm-6\" style=\"margin-top:20px;\"><div class=\"our-team\"><div class=\"pic\"><img id=\"myImage6405\" src=\"/Images/Profile/CS/6405.jpg\"></div><div class=\"team-content\"><h3 class=\"title\">M. Ishtiaq\n",
    "</h3><span class=\"post\">Assistant Professor</span> <p>m.ishtiaq@nu.edu.pk</p><br></div><ul class=\"social\"><li><a href=\"/Faculty/Details/6405\" target=\"_blank\" style=\"font-style: italic;\">More...</a></li></ul></div></div><div class=\"col-lg-3 col-md-6 col-sm-6\" style=\"margin-top:20px;\"><div class=\"our-team\"><div class=\"pic\"><img id=\"myImage9387\" src=\"/Images/Profile/CS/9387_20211001.jpg\"></div><div class=\"team-content\"><h3 class=\"title\">Javaria Imtiaz </h3><span class=\"post\">Assistant Professor</span> <p>javaria.imtiaz@nu.edu.pk</p><br></div><ul class=\"social\"><li><a href=\"/Faculty/Details/9387\" target=\"_blank\" style=\"font-style: italic;\">More...</a></li></ul></div></div><div class=\"col-lg-3 col-md-6 col-sm-6\" style=\"margin-top:20px;\"><div class=\"our-team\"><div class=\"pic\"><img id=\"myImage9489\" src=\"/Images/Profile/CS/9489.jpg\"></div><div class=\"team-content\"><h3 class=\"title\">Shehreyar Rashid</h3><span class=\"post\">Lecturer</span> <p>shehreyar.rashid@nu.edu.pk</p><br></div><ul class=\"social\"><li><a href=\"/Faculty/Details/9489\" target=\"_blank\" style=\"font-style: italic;\">More...</a></li></ul></div></div><div class=\"col-lg-3 col-md-6 col-sm-6\" style=\"margin-top:20px;\"><div class=\"our-team\"><div class=\"pic\"><img id=\"myImage9242\" src=\"/Images/Profile/CS/9242.jpg\"></div><div class=\"team-content\"><h3 class=\"title\">Shoaib Saleem Khattak\n",
    "</h3><span class=\"post\">Lecturer</span> <p>shoaib.saleem@nu.edu.pk</p><br></div><ul class=\"social\"><li><a href=\"/Faculty/Details/9242\" target=\"_blank\" style=\"font-style: italic;\">More...</a></li></ul></div></div><div class=\"col-lg-3 col-md-6 col-sm-6\" style=\"margin-top:20px;\"><div class=\"our-team\"><div class=\"pic\"><img id=\"myImage6379\" src=\"/Images/Profile/CS/6379.jpg\"></div><div class=\"team-content\"><h3 class=\"title\">Ansa Liaqat\n",
    "</h3><span class=\"post\">Lecturer</span> <p>ansa.liaqat@nu.edu.pk\n",
    "</p><br></div><ul class=\"social\"><li><a href=\"/Faculty/Details/6379\" target=\"_blank\" style=\"font-style: italic;\">More...</a></li></ul></div></div><div class=\"col-lg-3 col-md-6 col-sm-6\" style=\"margin-top:20px;\"><div class=\"our-team\"><div class=\"pic\"><img id=\"myImage6296\" src=\"/Images/Profile/CS/6296.jpg\"></div><div class=\"team-content\"><h3 class=\"title\">Marium Hida </h3><span class=\"post\">Lecturer</span> <p>marium.hida@nu.edu.pk </p><br></div><ul class=\"social\"><li><a href=\"/Faculty/Details/6296\" target=\"_blank\" style=\"font-style: italic;\">More...</a></li></ul></div></div><div class=\"col-lg-3 col-md-6 col-sm-6\" style=\"margin-top:20px;\"><div class=\"our-team\"><div class=\"pic\"><img id=\"myImage6260\" src=\"/Images/Profile/CS/6260.jpg\"></div><div class=\"team-content\"><h3 class=\"title\">Maryam Shahbaz </h3><span class=\"post\">Lecturer</span> <p>maryam.shahbaz@nu.edu.pk</p><br></div><ul class=\"social\"><li><a href=\"/Faculty/Details/6260\" target=\"_blank\" style=\"font-style: italic;\">More...</a></li></ul></div></div><div class=\"col-lg-3 col-md-6 col-sm-6\" style=\"margin-top:20px;\"><div class=\"our-team\"><div class=\"pic\"><img id=\"myImage6261\" src=\"/Images/Profile/CS/6261.jpg\"></div><div class=\"team-content\"><h3 class=\"title\">Bushra Amjad</h3><span class=\"post\">Lecturer</span> <p>bushra.amjad@nu.edu.pk </p><br></div><ul class=\"social\"><li><a href=\"/Faculty/Details/6261\" target=\"_blank\" style=\"font-style: italic;\">More...</a></li></ul></div></div><div class=\"col-lg-3 col-md-6 col-sm-6\" style=\"margin-top:20px;\"><div class=\"our-team\"><div class=\"pic\"><img id=\"myImage6263\" src=\"/Images/Profile/CS/6263.jpg\"></div><div class=\"team-content\"><h3 class=\"title\">Laraib Afzaal</h3><span class=\"post\">Lecturer</span> <p>laraib.afzaal@nu.edu.pk </p><br></div><ul class=\"social\"><li><a href=\"/Faculty/Details/6263\" target=\"_blank\" style=\"font-style: italic;\">More...</a></li></ul></div></div><div class=\"col-lg-3 col-md-6 col-sm-6\" style=\"margin-top:20px;\"><div class=\"our-team\"><div class=\"pic\"><img id=\"myImage6408\" src=\"/Images/Profile/CS/6408.jpg\"></div><div class=\"team-content\"><h3 class=\"title\">Muhammad Abdullah Abid \n",
    "</h3><span class=\"post\">Lecturer</span> <p>abdullah.abid@nu.edu.pk\n",
    "</p><br></div><ul class=\"social\"><li><a href=\"/Faculty/Details/6408\" target=\"_blank\" style=\"font-style: italic;\">More...</a></li></ul></div></div><div class=\"col-lg-3 col-md-6 col-sm-6\" style=\"margin-top:20px;\"><div class=\"our-team\"><div class=\"pic\"><img id=\"myImage6438\" src=\"/Images/Profile/CS/6438.jpg\"></div><div class=\"team-content\"><h3 class=\"title\">Adil Majeed</h3><span class=\"post\">Lecturer</span> <p>adil.majeed@nu.edu.pk</p><br></div><ul class=\"social\"><li><a href=\"/Faculty/Details/6438\" target=\"_blank\" style=\"font-style: italic;\">More...</a></li></ul></div></div><div class=\"col-lg-3 col-md-6 col-sm-6\" style=\"margin-top:20px;\"><div class=\"our-team\"><div class=\"pic\"><img id=\"myImage6451\" src=\"/Images/Profile/CS/6451.jpg\"></div><div class=\"team-content\"><h3 class=\"title\">Saira Qamar\n",
    "</h3><span class=\"post\">Lecturer</span> <p>saira.qamar@nu.edu.pk</p><br></div><ul class=\"social\"><li><a href=\"/Faculty/Details/6451\" target=\"_blank\" style=\"font-style: italic;\">More...</a></li></ul></div></div><div class=\"col-lg-3 col-md-6 col-sm-6\" style=\"margin-top:20px;\"><div class=\"our-team\"><div class=\"pic\"><img id=\"myImage6609\" src=\"/Images/Profile/CS/6609.jpg\"></div><div class=\"team-content\"><h3 class=\"title\">Shahela Saif</h3><span class=\"post\">Lecturer</span> <p>shahela.saif@nu.edu.pk</p><br></div><ul class=\"social\"><li><a href=\"/Faculty/Details/6609\" target=\"_blank\" style=\"font-style: italic;\">More...</a></li></ul></div></div><div class=\"col-lg-3 col-md-6 col-sm-6\" style=\"margin-top:20px;\"><div class=\"our-team\"><div class=\"pic\"><img id=\"myImage6610\" src=\"/Images/Profile/CS/6610.jpg\"></div><div class=\"team-content\"><h3 class=\"title\">Tajwar Mehmood\n",
    "</h3><span class=\"post\">Lecturer</span> <p>tajwar.mehmood@nu.edu.pk</p><br></div><ul class=\"social\"><li><a href=\"/Faculty/Details/6610\" target=\"_blank\" style=\"font-style: italic;\">More...</a></li></ul></div></div><div class=\"col-lg-3 col-md-6 col-sm-6\" style=\"margin-top:20px;\"><div class=\"our-team\"><div class=\"pic\"><img id=\"myImage6613\" src=\"/Images/Profile/CS/6613.jpg\"></div><div class=\"team-content\"><h3 class=\"title\">Nirmal Tariq\n",
    "</h3><span class=\"post\">Lecturer</span> <p>nirmal.tariq@nu.edu.pk\n",
    "</p><br></div><ul class=\"social\"><li><a href=\"/Faculty/Details/6613\" target=\"_blank\" style=\"font-style: italic;\">More...</a></li></ul></div></div><div class=\"col-lg-3 col-md-6 col-sm-6\" style=\"margin-top:20px;\"><div class=\"our-team\"><div class=\"pic\"><img id=\"myImage6508\" src=\"/Images/Profile/CS/6508.jpg\"></div><div class=\"team-content\"><h3 class=\"title\">Zaheer ul Hussain Sani</h3><span class=\"post\">Lecturer</span> <p>zaheer.sani@nu.edu.pk</p><br></div><ul class=\"social\"><li><a href=\"/Faculty/Details/6508\" target=\"_blank\" style=\"font-style: italic;\">More...</a></li></ul></div></div><div class=\"col-lg-3 col-md-6 col-sm-6\" style=\"margin-top:20px;\"><div class=\"our-team\"><div class=\"pic\"><img id=\"myImage6528\" src=\"/Images/Profile/CS/6528.jpg\"></div><div class=\"team-content\"><h3 class=\"title\">Muhammad Almas Khan\n",
    "</h3><span class=\"post\">Lecturer</span> <p>muhammad.almas@nu.edu.pk\n",
    "</p><br></div><ul class=\"social\"><li><a href=\"/Faculty/Details/6528\" target=\"_blank\" style=\"font-style: italic;\">More...</a></li></ul></div></div><div class=\"col-lg-3 col-md-6 col-sm-6\" style=\"margin-top:20px;\"><div class=\"our-team\"><div class=\"pic\"><img id=\"myImage6529\" src=\"/Images/Profile/CS/6529.jpg\"></div><div class=\"team-content\"><h3 class=\"title\">Mehmood ul Hassan\n",
    "</h3><span class=\"post\">Lecturer</span> <p>mehmood.hassan@nu.edu.pk</p><br></div><ul class=\"social\"><li><a href=\"/Faculty/Details/6529\" target=\"_blank\" style=\"font-style: italic;\">More...</a></li></ul></div></div><div class=\"col-lg-3 col-md-6 col-sm-6\" style=\"margin-top:20px;\"><div class=\"our-team\"><div class=\"pic\"><img id=\"myImage6534\" src=\"/Images/Profile/CS/6534.jpg\"></div><div class=\"team-content\"><h3 class=\"title\">Khadija Mahmood\n",
    "</h3><span class=\"post\">Lecturer</span> <p>khadija.mahmood@nu.edu.pk\n",
    "</p><br></div><ul class=\"social\"><li><a href=\"/Faculty/Details/6534\" target=\"_blank\" style=\"font-style: italic;\">More...</a></li></ul></div></div><div class=\"col-lg-3 col-md-6 col-sm-6\" style=\"margin-top:20px;\"><div class=\"our-team\"><div class=\"pic\"><img id=\"myImage6067\" src=\"/Images/Profile/CS/6067.jpg\"></div><div class=\"team-content\"><h3 class=\"title\">Owais Idrees </h3><span class=\"post\">Lecturer</span> <p>Owais.idrees@nu.edu.pk </p><br></div><ul class=\"social\"><li><a href=\"/Faculty/Details/6067\" target=\"_blank\" style=\"font-style: italic;\">More...</a></li></ul></div></div><div class=\"col-lg-3 col-md-6 col-sm-6\" style=\"margin-top:20px;\"><div class=\"our-team\"><div class=\"pic\"><img id=\"myImage5825\" src=\"/Images/Profile/CS/5825.jpg\"></div><div class=\"team-content\"><h3 class=\"title\">Saba Kanwal</h3><span class=\"post\">Lecturer</span> <p>Saba.Kanwal@nu.edu.pk</p><br></div><ul class=\"social\"><li><a href=\"/Faculty/Details/5825\" target=\"_blank\" style=\"font-style: italic;\">More...</a></li></ul></div></div><div class=\"col-lg-3 col-md-6 col-sm-6\" style=\"margin-top:20px;\"><div class=\"our-team\"><div class=\"pic\"><img id=\"myImage5970\" src=\"/Images/Profile/CS/59702020-09-03_02.13.07.jpg\"></div><div class=\"team-content\"><h3 class=\"title\">Maheen Arshad</h3><span class=\"post\">Lecturer</span> <p>Maheen.Arshad@nu.edu.pk</p><br></div><ul class=\"social\"><li><a href=\"/Faculty/Details/5970\" target=\"_blank\" style=\"font-style: italic;\">More...</a></li></ul></div></div><div class=\"col-lg-3 col-md-6 col-sm-6\" style=\"margin-top:20px;\"><div class=\"our-team\"><div class=\"pic\"><img id=\"myImage5976\" src=\"/Images/Profile/CS/59762020-09-03_02.12.04.jpg\"></div><div class=\"team-content\"><h3 class=\"title\">Sara Afzal</h3><span class=\"post\">Lecturer</span> <p>Sara.Afzal@nu.edu.pk</p><br></div><ul class=\"social\"><li><a href=\"/Faculty/Details/5976\" target=\"_blank\" style=\"font-style: italic;\">More...</a></li></ul></div></div><div class=\"col-lg-3 col-md-6 col-sm-6\" style=\"margin-top:20px;\"><div class=\"our-team\"><div class=\"pic\"><img id=\"myImage5977\" src=\"/Images/Profile/CS/59772020-09-03_02.11.33.png\"></div><div class=\"team-content\"><h3 class=\"title\">Syeda Farwa Batool</h3><span class=\"post\">Lecturer</span> <p>Syeda.Batool@nu.edu.pk</p><br></div><ul class=\"social\"><li><a href=\"/Faculty/Details/5977\" target=\"_blank\" style=\"font-style: italic;\">More...</a></li></ul></div></div><div class=\"col-lg-3 col-md-6 col-sm-6\" style=\"margin-top:20px;\"><div class=\"our-team\"><div class=\"pic\"><img id=\"myImage5981\" src=\"/Images/Profile/CS/5981_20211001.jpg\"></div><div class=\"team-content\"><h3 class=\"title\">Ifrah Qaiser</h3><span class=\"post\">Lecturer</span> <p>ifrah.qaiser@nu.edu.pk</p><br></div><ul class=\"social\"><li><a href=\"/Faculty/Details/5981\" target=\"_blank\" style=\"font-style: italic;\">More...</a></li></ul></div></div><div class=\"col-lg-3 col-md-6 col-sm-6\" style=\"margin-top:20px;\"><div class=\"our-team\"><div class=\"pic\"><img id=\"myImage5876\" src=\"/Images/Profile/CS/5876.jpg\"></div><div class=\"team-content\"><h3 class=\"title\">Shafaq Riaz Bhatti</h3><span class=\"post\">Lecturer</span> <p>shafaq.riaz@nu.edu.pk</p><br></div><ul class=\"social\"><li><a href=\"/Faculty/Details/5876\" target=\"_blank\" style=\"font-style: italic;\">More...</a></li></ul></div></div><div class=\"col-lg-3 col-md-6 col-sm-6\" style=\"margin-top:20px;\"><div class=\"our-team\"><div class=\"pic\"><img id=\"myImage5880\" src=\"/Images/Profile/CS/5880.jpg\"></div><div class=\"team-content\"><h3 class=\"title\">Ayesha Kamran</h3><span class=\"post\">Lecturer</span> <p>ayesha.kamran@nu.edu.pk</p><br></div><ul class=\"social\"><li><a href=\"/Faculty/Details/5880\" target=\"_blank\" style=\"font-style: italic;\">More...</a></li></ul></div></div><div class=\"col-lg-3 col-md-6 col-sm-6\" style=\"margin-top:20px;\"><div class=\"our-team\"><div class=\"pic\"><img id=\"myImage5883\" src=\"/Images/Profile/CS/5883.JPG\"></div><div class=\"team-content\"><h3 class=\"title\">Parisa Salma</h3><span class=\"post\">Lecturer</span> <p>parisa.salma@nu.edu.pk</p><br></div><ul class=\"social\"><li><a href=\"/Faculty/Details/5883\" target=\"_blank\" style=\"font-style: italic;\">More...</a></li></ul></div></div><div class=\"col-lg-3 col-md-6 col-sm-6\" style=\"margin-top:20px;\"><div class=\"our-team\"><div class=\"pic\"><img id=\"myImage5793\" src=\"/Images/Profile/CS/5793.jpg\"></div><div class=\"team-content\"><h3 class=\"title\">Ameen Chilwan</h3><span class=\"post\">Lecturer</span> <p>ameen.chilwan@nu.edu.pk</p><br></div><ul class=\"social\"><li><a href=\"/Faculty/Details/5793\" target=\"_blank\" style=\"font-style: italic;\">More...</a></li></ul></div></div><div class=\"col-lg-3 col-md-6 col-sm-6\" style=\"margin-top:20px;\"><div class=\"our-team\"><div class=\"pic\"><img id=\"myImage6109\" src=\"/Images/Profile/CS/6109_20211001.jpg\"></div><div class=\"team-content\"><h3 class=\"title\">Hina Binte Haq</h3><span class=\"post\">Lecturer</span> <p>hina.haq@nu.edu.pk </p><br></div><ul class=\"social\"><li><a href=\"/Faculty/Details/6109\" target=\"_blank\" style=\"font-style: italic;\">More...</a></li></ul></div></div><div class=\"col-lg-3 col-md-6 col-sm-6\" style=\"margin-top:20px;\"><div class=\"our-team\"><div class=\"pic\"><img id=\"myImage6110\" src=\"/Images/Profile/CS/6110_20211001.jpg\"></div><div class=\"team-content\"><h3 class=\"title\">Urooj Ghani</h3><span class=\"post\">Lecturer</span> <p>urooj.ghani@nu.edu.pk</p><br></div><ul class=\"social\"><li><a href=\"/Faculty/Details/6110\" target=\"_blank\" style=\"font-style: italic;\">More...</a></li></ul></div></div><div class=\"col-lg-3 col-md-6 col-sm-6\" style=\"margin-top:20px;\"><div class=\"our-team\"><div class=\"pic\"><img id=\"myImage6229\" src=\"/Images/Profile/CS/6229.jpg\"></div><div class=\"team-content\"><h3 class=\"title\">Nimra Shahid </h3><span class=\"post\">Lecturer</span> <p>nimra.shahid@nu.edu.pk </p><br></div><ul class=\"social\"><li><a href=\"/Faculty/Details/6229\" target=\"_blank\" style=\"font-style: italic;\">More...</a></li></ul></div></div><div class=\"col-lg-3 col-md-6 col-sm-6\" style=\"margin-top:20px;\"><div class=\"our-team\"><div class=\"pic\"><img id=\"myImage6244\" src=\"/Images/Profile/CS/6244.jpg\"></div><div class=\"team-content\"><h3 class=\"title\">Irfan Ullah </h3><span class=\"post\">Lecturer</span> <p>irfan.ullah@nu.edu.pk</p><br></div><ul class=\"social\"><li><a href=\"/Faculty/Details/6244\" target=\"_blank\" style=\"font-style: italic;\">More...</a></li></ul></div></div><div class=\"col-lg-3 col-md-6 col-sm-6\" style=\"margin-top:20px;\"><div class=\"our-team\"><div class=\"pic\"><img id=\"myImage6247\" src=\"/Images/Profile/CS/6247.jpg\"></div><div class=\"team-content\"><h3 class=\"title\">Pir Sami Ullah Shah </h3><span class=\"post\">Lecturer</span> <p>samiullah.shah@nu.edu.pk</p><br></div><ul class=\"social\"><li><a href=\"/Faculty/Details/6247\" target=\"_blank\" style=\"font-style: italic;\">More...</a></li></ul></div></div><div class=\"col-lg-3 col-md-6 col-sm-6\" style=\"margin-top:20px;\"><div class=\"our-team\"><div class=\"pic\"><img id=\"myImage6248\" src=\"/Images/Profile/CS/6248.jpg\"></div><div class=\"team-content\"><h3 class=\"title\">Mehreen Javaid </h3><span class=\"post\">Lecturer</span> <p>mehreen.javaid@nu.edu.pk </p><br></div><ul class=\"social\"><li><a href=\"/Faculty/Details/6248\" target=\"_blank\" style=\"font-style: italic;\">More...</a></li></ul></div></div><div class=\"col-lg-3 col-md-6 col-sm-6\" style=\"margin-top:20px;\"><div class=\"our-team\"><div class=\"pic\"><img id=\"myImage5465\" src=\"/Images/Profile/CS/5465.jpg\"></div><div class=\"team-content\"><h3 class=\"title\">Majid Hussain</h3><span class=\"post\">Lecturer</span> <p>majid.hussain@nu.edu.pk</p><br></div><ul class=\"social\"><li><a href=\"/Faculty/Details/5465\" target=\"_blank\" style=\"font-style: italic;\">More...</a></li></ul></div></div><div class=\"col-lg-3 col-md-6 col-sm-6\" style=\"margin-top:20px;\"><div class=\"our-team\"><div class=\"pic\"><img id=\"myImage5537\" src=\"/Images/Profile/CS/5537.jpg\"></div><div class=\"team-content\"><h3 class=\"title\">Sidra Khalid</h3><span class=\"post\">Lecturer</span> <p>sidra.khalid@nu.edu.pk</p><br></div><ul class=\"social\"><li><a href=\"/Faculty/Details/5537\" target=\"_blank\" style=\"font-style: italic;\">More...</a></li></ul></div></div><div class=\"col-lg-3 col-md-6 col-sm-6\" style=\"margin-top:20px;\"><div class=\"our-team\"><div class=\"pic\"><img id=\"myImage5687\" src=\"/Images/Profile/CS/5687.jpg\"></div><div class=\"team-content\"><h3 class=\"title\">Shams Farooq</h3><span class=\"post\">Lecturer</span> <p>shams.farooq@nu.edu.pk</p><br></div><ul class=\"social\"><li><a href=\"/Faculty/Details/5687\" target=\"_blank\" style=\"font-style: italic;\">More...</a></li></ul></div></div><div class=\"col-lg-3 col-md-6 col-sm-6\" style=\"margin-top:20px;\"><div class=\"our-team\"><div class=\"pic\"><img id=\"myImage5691\" src=\"/Images/Profile/CS/5691.JPG\"></div><div class=\"team-content\"><h3 class=\"title\">Uzma Mahar</h3><span class=\"post\">Lecturer</span> <p>uzma.mahar@nu.edu.pk</p><br></div><ul class=\"social\"><li><a href=\"/Faculty/Details/5691\" target=\"_blank\" style=\"font-style: italic;\">More...</a></li></ul></div></div><div class=\"col-lg-3 col-md-6 col-sm-6\" style=\"margin-top:20px;\"><div class=\"our-team\"><div class=\"pic\"><img id=\"myImage5692\" src=\"/Images/Profile/CS/5692.jpg\"></div><div class=\"team-content\"><h3 class=\"title\">Syed M.Saad Salman</h3><span class=\"post\">Lecturer</span> <p>saad.salman@nu.edu.pk</p><br></div><ul class=\"social\"><li><a href=\"/Faculty/Details/5692\" target=\"_blank\" style=\"font-style: italic;\">More...</a></li></ul></div></div><div class=\"col-lg-3 col-md-6 col-sm-6\" style=\"margin-top:20px;\"><div class=\"our-team\"><div class=\"pic\"><img id=\"myImage5693\" src=\"/Images/Profile/CS/5693.jpg\"></div><div class=\"team-content\"><h3 class=\"title\">Bilal Khalid Dar</h3><span class=\"post\">Lecturer</span> <p>bilal.khalid@nu.edu.pk</p><br></div><ul class=\"social\"><li><a href=\"/Faculty/Details/5693\" target=\"_blank\" style=\"font-style: italic;\">More...</a></li></ul></div></div><div class=\"col-lg-3 col-md-6 col-sm-6\" style=\"margin-top:20px;\"><div class=\"our-team\"><div class=\"pic\"><img id=\"myImage5694\" src=\"/Images/Profile/CS/5694.JPG\"></div><div class=\"team-content\"><h3 class=\"title\">Shehr Bano</h3><span class=\"post\">Lecturer</span> <p>shehr.bano@nu.edu.pk</p><br></div><ul class=\"social\"><li><a href=\"/Faculty/Details/5694\" target=\"_blank\" style=\"font-style: italic;\">More...</a></li></ul></div></div><div class=\"col-lg-3 col-md-6 col-sm-6\" style=\"margin-top:20px;\"><div class=\"our-team\"><div class=\"pic\"><img id=\"myImage5704\" src=\"/Images/Profile/CS/5704.jpg\"></div><div class=\"team-content\"><h3 class=\"title\">Madiha Umar</h3><span class=\"post\">Lecturer</span> <p>madiha.umar@nu.edu.pk</p><br></div><ul class=\"social\"><li><a href=\"/Faculty/Details/5704\" target=\"_blank\" style=\"font-style: italic;\">More...</a></li></ul></div></div><div class=\"col-lg-3 col-md-6 col-sm-6\" style=\"margin-top:20px;\"><div class=\"our-team\"><div class=\"pic\"><img id=\"myImage5723\" src=\"/Images/Profile/CS/5723.jpg\"></div><div class=\"team-content\"><h3 class=\"title\">Humera Sabir</h3><span class=\"post\">Lecturer</span> <p>humera.sabir@nu.edu.pk</p><br></div><ul class=\"social\"><li><a href=\"/Faculty/Details/5723\" target=\"_blank\" style=\"font-style: italic;\">More...</a></li></ul></div></div><div class=\"col-lg-3 col-md-6 col-sm-6\" style=\"margin-top:20px;\"><div class=\"our-team\"><div class=\"pic\"><img id=\"myImage5790\" src=\"/Images/Profile/CS/5790.jpg\"></div><div class=\"team-content\"><h3 class=\"title\">Umair Arshad</h3><span class=\"post\">Lecturer</span> <p>umair.arshad@nu.edu.pk</p><br></div><ul class=\"social\"><li><a href=\"/Faculty/Details/5790\" target=\"_blank\" style=\"font-style: italic;\">More...</a></li></ul></div></div><div class=\"col-lg-3 col-md-6 col-sm-6\" style=\"margin-top:20px;\"><div class=\"our-team\"><div class=\"pic\"><img id=\"myImage5201\" src=\"/Images/Profile/CS/5201.jpg\"></div><div class=\"team-content\"><h3 class=\"title\">Hassan Raza</h3><span class=\"post\">Lecturer</span> <p>hassan.raza@nu.edu.pk</p><br></div><ul class=\"social\"><li><a href=\"/Faculty/Details/5201\" target=\"_blank\" style=\"font-style: italic;\">More...</a></li></ul></div></div><div class=\"col-lg-3 col-md-6 col-sm-6\" style=\"margin-top:20px;\"><div class=\"our-team\"><div class=\"pic\"><img id=\"myImage5212\" src=\"/Images/Profile/CS/5212.jpg\"></div><div class=\"team-content\"><h3 class=\"title\">Shoaib Mehboob</h3><span class=\"post\">Lecturer</span> <p>shoaib.mehboob@nu.edu.pk</p><br></div><ul class=\"social\"><li><a href=\"/Faculty/Details/5212\" target=\"_blank\" style=\"font-style: italic;\">More...</a></li></ul></div></div><div class=\"col-lg-3 col-md-6 col-sm-6\" style=\"margin-top:20px;\"><div class=\"our-team\"><div class=\"pic\"><img id=\"myImage6249\" src=\"/Images/Profile/CS/6249.jpg\"></div><div class=\"team-content\"><h3 class=\"title\">Javeria Zia </h3><span class=\"post\">Instructor</span> <p>javeria.zia@nu.edu.pk</p><br></div><ul class=\"social\"><li><a href=\"/Faculty/Details/6249\" target=\"_blank\" style=\"font-style: italic;\">More...</a></li></ul></div></div><div class=\"col-lg-3 col-md-6 col-sm-6\" style=\"margin-top:20px;\"><div class=\"our-team\"><div class=\"pic\"><img id=\"myImage6252\" src=\"/Images/Profile/CS/6252.jpg\"></div><div class=\"team-content\"><h3 class=\"title\">Hira Mastoor </h3><span class=\"post\">Instructor</span> <p>hira.mastoor@nu.edu.pk</p><br></div><ul class=\"social\"><li><a href=\"/Faculty/Details/6252\" target=\"_blank\" style=\"font-style: italic;\">More...</a></li></ul></div></div><div class=\"col-lg-3 col-md-6 col-sm-6\" style=\"margin-top:20px;\"><div class=\"our-team\"><div class=\"pic\"><img id=\"myImage6245\" src=\"/Images/Profile/CS/6245.jpg\"></div><div class=\"team-content\"><h3 class=\"title\">M Naveed Khurshid</h3><span class=\"post\">Instructor</span> <p>naveed.khurshid@nu.edu.pk </p><br></div><ul class=\"social\"><li><a href=\"/Faculty/Details/6245\" target=\"_blank\" style=\"font-style: italic;\">More...</a></li></ul></div></div><div class=\"col-lg-3 col-md-6 col-sm-6\" style=\"margin-top:20px;\"><div class=\"our-team\"><div class=\"pic\"><img id=\"myImage6246\" src=\"/Images/Profile/CS/6246.jpg\"></div><div class=\"team-content\"><h3 class=\"title\">Muhammad Nasir Zafar</h3><span class=\"post\">Instructor</span> <p>nasir.zafar@nu.edu.pk </p><br></div><ul class=\"social\"><li><a href=\"/Faculty/Details/6246\" target=\"_blank\" style=\"font-style: italic;\">More...</a></li></ul></div></div><div class=\"col-lg-3 col-md-6 col-sm-6\" style=\"margin-top:20px;\"><div class=\"our-team\"><div class=\"pic\"><img id=\"myImage6240\" src=\"/Images/Profile/CS/6240.jpg\"></div><div class=\"team-content\"><h3 class=\"title\">Muhammad Hanan </h3><span class=\"post\">Instructor</span> <p>muhammad.hanan@nu.edu.pk</p><br></div><ul class=\"social\"><li><a href=\"/Faculty/Details/6240\" target=\"_blank\" style=\"font-style: italic;\">More...</a></li></ul></div></div><div class=\"col-lg-3 col-md-6 col-sm-6\" style=\"margin-top:20px;\"><div class=\"our-team\"><div class=\"pic\"><img id=\"myImage6243\" src=\"/Images/Profile/CS/6243.jpg\"></div><div class=\"team-content\"><h3 class=\"title\">Arslan Aslam</h3><span class=\"post\">Instructor</span> <p>arslan.aslam@nu.edu.pk </p><br></div><ul class=\"social\"><li><a href=\"/Faculty/Details/6243\" target=\"_blank\" style=\"font-style: italic;\">More...</a></li></ul></div></div><div class=\"col-lg-3 col-md-6 col-sm-6\" style=\"margin-top:20px;\"><div class=\"our-team\"><div class=\"pic\"><img id=\"myImage6111\" src=\"/Images/Profile/CS/6111_20211001.jpg\"></div><div class=\"team-content\"><h3 class=\"title\">Sana Razzaq </h3><span class=\"post\">Instructor</span> <p>sana.razzaq@nu.edu.pk</p><br></div><ul class=\"social\"><li><a href=\"/Faculty/Details/6111\" target=\"_blank\" style=\"font-style: italic;\">More...</a></li></ul></div></div><div class=\"col-lg-3 col-md-6 col-sm-6\" style=\"margin-top:20px;\"><div class=\"our-team\"><div class=\"pic\"><img id=\"myImage6123\" src=\"/Images/Profile/CS/6123_20211001.jpg\"></div><div class=\"team-content\"><h3 class=\"title\">Riva Malik </h3><span class=\"post\">Instructor</span> <p>riva.malik@nu.edu.pk</p><br></div><ul class=\"social\"><li><a href=\"/Faculty/Details/6123\" target=\"_blank\" style=\"font-style: italic;\">More...</a></li></ul></div></div><div class=\"col-lg-3 col-md-6 col-sm-6\" style=\"margin-top:20px;\"><div class=\"our-team\"><div class=\"pic\"><img id=\"myImage6143\" src=\"/Images/Profile/CS/6143_20211001.jpg\"></div><div class=\"team-content\"><h3 class=\"title\">Amina Siddique </h3><span class=\"post\">Instructor</span> <p>amina.siddique@nu.edu.pk</p><br></div><ul class=\"social\"><li><a href=\"/Faculty/Details/6143\" target=\"_blank\" style=\"font-style: italic;\">More...</a></li></ul></div></div><div class=\"col-lg-3 col-md-6 col-sm-6\" style=\"margin-top:20px;\"><div class=\"our-team\"><div class=\"pic\"><img id=\"myImage6159\" src=\"/Images/Profile/CS/6159_20211001.jpg\"></div><div class=\"team-content\"><h3 class=\"title\">Amna Hassan</h3><span class=\"post\">Instructor</span> <p>amna.hassan@nu.edu.pk</p><br></div><ul class=\"social\"><li><a href=\"/Faculty/Details/6159\" target=\"_blank\" style=\"font-style: italic;\">More...</a></li></ul></div></div><div class=\"col-lg-3 col-md-6 col-sm-6\" style=\"margin-top:20px;\"><div class=\"our-team\"><div class=\"pic\"><img id=\"myImage6521\" src=\"/Images/Profile/CS/6521.jpg\"></div><div class=\"team-content\"><h3 class=\"title\">Laiba Imran\n",
    "</h3><span class=\"post\">Instructor</span> <p>laiba.imran@nu.edu.pk</p><br></div><ul class=\"social\"><li><a href=\"/Faculty/Details/6521\" target=\"_blank\" style=\"font-style: italic;\">More...</a></li></ul></div></div><div class=\"col-lg-3 col-md-6 col-sm-6\" style=\"margin-top:20px;\"><div class=\"our-team\"><div class=\"pic\"><img id=\"myImage6262\" src=\"/Images/Profile/CS/6262.jpg\"></div><div class=\"team-content\"><h3 class=\"title\">Salman Iqbal </h3><span class=\"post\">Instructor</span> <p>salman.iqbal@nu.edu.pk </p><br></div><ul class=\"social\"><li><a href=\"/Faculty/Details/6262\" target=\"_blank\" style=\"font-style: italic;\">More...</a></li></ul></div></div><div class=\"col-lg-3 col-md-6 col-sm-6\" style=\"margin-top:20px;\"><div class=\"our-team\"><div class=\"pic\"><img id=\"myImage6384\" src=\"/Images/Profile/CS/6384.jpg\"></div><div class=\"team-content\"><h3 class=\"title\">Zoya Sumbul Zaheer</h3><span class=\"post\">Instructor</span> <p>zoya.sumbul@nu.edu.pk</p><br></div><ul class=\"social\"><li><a href=\"/Faculty/Details/6384\" target=\"_blank\" style=\"font-style: italic;\">More...</a></li></ul></div></div><div class=\"col-lg-3 col-md-6 col-sm-6\" style=\"margin-top:20px;\"><div class=\"our-team\"><div class=\"pic\"><img id=\"myImage6385\" src=\"/Images/Profile/CS/6385.jpg\"></div><div class=\"team-content\"><h3 class=\"title\">Sunduss Aamir Khan\n",
    "</h3><span class=\"post\">Instructor</span> <p>sunduss.aamir@nu.edu.pk</p><br></div><ul class=\"social\"><li><a href=\"/Faculty/Details/6385\" target=\"_blank\" style=\"font-style: italic;\">More...</a></li></ul></div></div><div class=\"col-lg-3 col-md-6 col-sm-6\" style=\"margin-top:20px;\"><div class=\"our-team\"><div class=\"pic\"><img id=\"myImage6387\" src=\"/Images/Profile/CS/6387.jpg\"></div><div class=\"team-content\"><h3 class=\"title\">Sadia Saad</h3><span class=\"post\">Instructor</span> <p>sadia.saad@nu.edu.pk</p><br></div><ul class=\"social\"><li><a href=\"/Faculty/Details/6387\" target=\"_blank\" style=\"font-style: italic;\">More...</a></li></ul></div></div><div class=\"col-lg-3 col-md-6 col-sm-6\" style=\"margin-top:20px;\"><div class=\"our-team\"><div class=\"pic\"><img id=\"myImage6388\" src=\"/Images/Profile/CS/6388.jpg\"></div><div class=\"team-content\"><h3 class=\"title\">Bushra Fatima Tariq</h3><span class=\"post\">Instructor</span> <p>bushra.fatima@nu.edu.pk</p><br></div><ul class=\"social\"><li><a href=\"/Faculty/Details/6388\" target=\"_blank\" style=\"font-style: italic;\">More...</a></li></ul></div></div><div class=\"col-lg-3 col-md-6 col-sm-6\" style=\"margin-top:20px;\"><div class=\"our-team\"><div class=\"pic\"><img id=\"myImage6406\" src=\"/Images/Profile/CS/6406.jpg\"></div><div class=\"team-content\"><h3 class=\"title\">Sher Bano\n",
    "</h3><span class=\"post\">Instructor</span> <p>sher.bano@nu.edu.pk \n",
    "</p><br></div><ul class=\"social\"><li><a href=\"/Faculty/Details/6406\" target=\"_blank\" style=\"font-style: italic;\">More...</a></li></ul></div></div><div class=\"col-lg-3 col-md-6 col-sm-6\" style=\"margin-top:20px;\"><div class=\"our-team\"><div class=\"pic\"><img id=\"myImage6375\" src=\"/Images/Profile/CS/6375.jpg\"></div><div class=\"team-content\"><h3 class=\"title\">Hummayoun Mustafa Mazhar </h3><span class=\"post\">Instructor</span> <p>hummayoun.mustafa@nu.edu.pk</p><br></div><ul class=\"social\"><li><a href=\"/Faculty/Details/6375\" target=\"_blank\" style=\"font-style: italic;\">More...</a></li></ul></div></div><div class=\"col-lg-3 col-md-6 col-sm-6\" style=\"margin-top:20px;\"><div class=\"our-team\"><div class=\"pic\"><img id=\"myImage6377\" src=\"/Images/Profile/CS/6377.jpg\"></div><div class=\"team-content\"><h3 class=\"title\">Obaid Ullah\n",
    "</h3><span class=\"post\">Instructor</span> <p>obaid Ullah@nu.edu.pk\n",
    "</p><br></div><ul class=\"social\"><li><a href=\"/Faculty/Details/6377\" target=\"_blank\" style=\"font-style: italic;\">More...</a></li></ul></div></div><div class=\"col-lg-3 col-md-6 col-sm-6\" style=\"margin-top:20px;\"><div class=\"our-team\"><div class=\"pic\"><img id=\"myImage5677\" src=\"/Images/Profile/CS/5677.jpg\"></div><div class=\"team-content\"><h3 class=\"title\">Neelofar Niazi </h3><span class=\"post\">Assistant Manager (Coordination)</span> <p>neelofar.niazi@nu.edu.pk</p><br></div><ul class=\"social\"><li><a href=\"/Faculty/Details/5677\" target=\"_blank\" style=\"font-style: italic;\">More...</a></li></ul></div></div><div class=\"col-lg-3 col-md-6 col-sm-6\" style=\"margin-top:20px;\"><div class=\"our-team\"><div class=\"pic\"><img id=\"myImage5393\" src=\"/Images/Profile/CS/5393.jpg\"></div><div class=\"team-content\"><h3 class=\"title\">Fahad Shahzad</h3><span class=\"post\">Academic Officer</span> <p>fahad.shahzad@nu.edu.pk</p><br></div><ul class=\"social\"><li><a href=\"/Faculty/Details/5393\" target=\"_blank\" style=\"font-style: italic;\">More...</a></li></ul></div></div><div class=\"col-lg-3 col-md-6 col-sm-6\" style=\"margin-top:20px;\"><div class=\"our-team\"><div class=\"pic\"><img id=\"myImage4154\" src=\"/Images/Profile/CS/4154.jpg\"></div><div class=\"team-content\"><h3 class=\"title\">Shakeel Ahmed Kiyani</h3><span class=\"post\">Academic Officer</span> <p>shakeel.kiyani@nu.edu.pk</p><br></div><ul class=\"social\"><li><a href=\"/Faculty/Details/4154\" target=\"_blank\" style=\"font-style: italic;\">More...</a></li></ul></div></div><div class=\"col-lg-3 col-md-6 col-sm-6\" style=\"margin-top:20px;\"><div class=\"our-team\"><div class=\"pic\"><img id=\"myImage5774\" src=\"/Images/Profile/FSM/57742021-04-22_14.13.10.png\"></div><div class=\"team-content\"><h3 class=\"title\">Abdul Qadoos</h3><span class=\"post\">Academic Officer</span> <p>abdul.qadoos@nu.edu.pk</p><br></div><ul class=\"social\"><li><a href=\"/Faculty/Details/5774\" target=\"_blank\" style=\"font-style: italic;\">More...</a></li></ul></div></div><div class=\"col-lg-3 col-md-6 col-sm-6\" style=\"margin-top:20px;\"><div class=\"our-team\"><div class=\"pic\"><img id=\"myImage5582\" src=\"/Images/Profile/CS/5582.jpg\"></div><div class=\"team-content\"><h3 class=\"title\">Amir Rehman</h3><span class=\"post\">Academic Officer</span> <p>amir.rehman@nu.edu.pk</p><br></div><ul class=\"social\"><li><a href=\"/Faculty/Details/5582\" target=\"_blank\" style=\"font-style: italic;\">More...</a></li></ul></div></div><div class=\"col-lg-3 col-md-6 col-sm-6\" style=\"margin-top:20px;\"><div class=\"our-team\"><div class=\"pic\"><img id=\"myImage5912\" src=\"/Images/Profile/CS/5912.jpg\"></div><div class=\"team-content\"><h3 class=\"title\">Baber Shahzad</h3><span class=\"post\">Assistant Academic Officer</span> <p>baber.shahzad@nu.edu.pk</p><br></div><ul class=\"social\"><li><a href=\"/Faculty/Details/5912\" target=\"_blank\" style=\"font-style: italic;\">More...</a></li></ul></div></div><div class=\"col-lg-3 col-md-6 col-sm-6\" style=\"margin-top:20px;\"><div class=\"our-team\"><div class=\"pic\"><img id=\"myImage5922\" src=\"/Images/Profile/CS/59222021-04-27_09.55.26.jpg\"></div><div class=\"team-content\"><h3 class=\"title\">Ayesha Yaqub Malik</h3><span class=\"post\">Assistant Academic Officer</span> <p>ayesha.yaqub@nu.edu.pk</p><br></div><ul class=\"social\"><li><a href=\"/Faculty/Details/5922\" target=\"_blank\" style=\"font-style: italic;\">More...</a></li></ul></div></div><div class=\"col-lg-3 col-md-6 col-sm-6\" style=\"margin-top:20px;\"><div class=\"our-team\"><div class=\"pic\"><img id=\"myImage6683\" src=\"/Images/Profile/CS/6683.jpg\"></div><div class=\"team-content\"><h3 class=\"title\">Imran Ashraf\n",
    "</h3><span class=\"post\">Assistant Professor</span> <p>imran.ashraf@isb.nu.edu.pk\n",
    "</p><br></div><ul class=\"social\"><li><a href=\"/Faculty/Details/6683\" target=\"_blank\" style=\"font-style: italic;\">More...</a></li></ul></div></div><div class=\"col-lg-3 col-md-6 col-sm-6\" style=\"margin-top:20px;\"><div class=\"our-team\"><div class=\"pic\"><img id=\"myImage6527\" src=\"/Images/Profile/CS/6527.jpg\"></div><div class=\"team-content\"><h3 class=\"title\">Madiha khan\n",
    "</h3><span class=\"post\">Department Secretary</span> <p>madiha.khan@nu.edu.pk</p><br></div><ul class=\"social\"><li><a href=\"/Faculty/Details/6527\" target=\"_blank\" style=\"font-style: italic;\">More...</a></li></ul></div></div><div class=\"col-lg-3 col-md-6 col-sm-6\" style=\"margin-top:20px;\"><div class=\"our-team\"><div class=\"pic\"><img id=\"myImage6540\" src=\"/Images/Profile/CS/6540.jpg\"></div><div class=\"team-content\"><h3 class=\"title\">Nayab Razzaq\n",
    "</h3><span class=\"post\">Department Secretary</span> <p>nayab.razzaq@nu.edu.pk</p><br></div><ul class=\"social\"><li><a href=\"/Faculty/Details/6540\" target=\"_blank\" style=\"font-style: italic;\">More...</a></li></ul></div></div><div class=\"col-lg-3 col-md-6 col-sm-6\" style=\"margin-top:20px;\"><div class=\"our-team\"><div class=\"pic\"><img id=\"myImage6350\" src=\"/Images/Profile/CS/6350.jpg\"></div><div class=\"team-content\"><h3 class=\"title\">Muhammad Aadil\n",
    "</h3><span class=\"post\">Assistant Academic Officer</span> <p>m.aadil@nu.edu.pk</p><br></div><ul class=\"social\"><li><a href=\"/Faculty/Details/6350\" target=\"_blank\" style=\"font-style: italic;\">More...</a></li></ul></div></div><div class=\"col-lg-3 col-md-6 col-sm-6\" style=\"margin-top:20px;\"><div class=\"our-team\"><div class=\"pic\"><img id=\"myImage6351\" src=\"/Images/Profile/CS/6351.jpg\"></div><div class=\"team-content\"><h3 class=\"title\">Syed Shaharyar Yousaf\n",
    "</h3><span class=\"post\">Assistant Academic Officer</span> <p>Shaharyar.yousaf@nu.edu.pk\n",
    "</p><br></div><ul class=\"social\"><li><a href=\"/Faculty/Details/6351\" target=\"_blank\" style=\"font-style: italic;\">More...</a></li></ul></div></div></div>\n",
    "                <br>\n",
    "            </div>\n",
    "        </div>\n",
    "    </div>\n",
    "\n",
    "    <div class=\"container\" style=\"margin-top: 25px;\" id=\"ee\">\n",
    "        <div class=\"row blog\">\n",
    "            <h3>\n",
    "                <div class=\"animated fadeInLeft\">Electrical Engineering</div>\n",
    "                <div class=\"animated fadeInRight\">Faculty</div>\n",
    "            </h3>\n",
    "            <div class=\"col-md-12\">\n",
    "                <div class=\"row\" id=\"facultyEE\"><div class=\"col-lg-3 col-md-6 col-sm-6\" style=\"margin-top:20px;\"><div class=\"our-team\"><div class=\"pic\"><img id=\"myImage4848\" src=\"/Images/Profile/CS/4848.jpg\"></div><div class=\"team-content\"><h3 class=\"title\">Muhammad Tariq\n",
    "</h3><span class=\"post\">HOD &amp; Professor</span> <p>tariq.khan@nu.edu.pk</p><br></div><ul class=\"social\"><li><a href=\"/Faculty/Details/4848\" target=\"_blank\" style=\"font-style: italic;\">More...</a></li></ul></div></div><div class=\"col-lg-3 col-md-6 col-sm-6\" style=\"margin-top:20px;\"><div class=\"our-team\"><div class=\"pic\"><img id=\"myImage5004\" src=\"/Images/Profile/EE/5004.jpg\"></div><div class=\"team-content\"><h3 class=\"title\">Waseem Ikram</h3><span class=\"post\">Professor</span> <p>waseem.ikram@nu.edu.pk</p><br></div><ul class=\"social\"><li><a href=\"/Faculty/Details/5004\" target=\"_blank\" style=\"font-style: italic;\">More...</a></li></ul></div></div><div class=\"col-lg-3 col-md-6 col-sm-6\" style=\"margin-top:20px;\"><div class=\"our-team\"><div class=\"pic\"><img id=\"myImage5522\" src=\"/Images/Profile/EE/5522.jpg\"></div><div class=\"team-content\"><h3 class=\"title\">Mukhtar Ullah</h3><span class=\"post\">Professor</span> <p>mukhtar.ullah@nu.edu.pk</p><br></div><ul class=\"social\"><li><a href=\"/Faculty/Details/5522\" target=\"_blank\" style=\"font-style: italic;\">More...</a></li></ul></div></div><div class=\"col-lg-3 col-md-6 col-sm-6\" style=\"margin-top:20px;\"><div class=\"our-team\"><div class=\"pic\"><img id=\"myImage5619\" src=\"/Images/Profile/EE/5619.jpg\"></div><div class=\"team-content\"><h3 class=\"title\">Rashad Ramzan</h3><span class=\"post\">Professor</span> <p>rashad.ramzan@nu.edu.pk</p><br></div><ul class=\"social\"><li><a href=\"/Faculty/Details/5619\" target=\"_blank\" style=\"font-style: italic;\">More...</a></li></ul></div></div><div class=\"col-lg-3 col-md-6 col-sm-6\" style=\"margin-top:20px;\"><div class=\"our-team\"><div class=\"pic\"><img id=\"myImage9150\" src=\"/Images/Profile/EE/9150.jpg\"></div><div class=\"team-content\"><h3 class=\"title\">Ataul Aziz Ikram</h3><span class=\"post\">Professor</span> <p>ata.ikram@nu.edu.pk</p><br></div><ul class=\"social\"><li><a href=\"/Faculty/Details/9150\" target=\"_blank\" style=\"font-style: italic;\">More...</a></li></ul></div></div><div class=\"col-lg-3 col-md-6 col-sm-6\" style=\"margin-top:20px;\"><div class=\"our-team\"><div class=\"pic\"><img id=\"myImage6390\" src=\"/Images/Profile/EE/6390.jpg\"></div><div class=\"team-content\"><h3 class=\"title\">Niaz Ahmed</h3><span class=\"post\">Associate Professor</span> <p>niaz.ahmed@nu.edu.pk</p><br></div><ul class=\"social\"><li><a href=\"/Faculty/Details/6390\" target=\"_blank\" style=\"font-style: italic;\">More...</a></li></ul></div></div><div class=\"col-lg-3 col-md-6 col-sm-6\" style=\"margin-top:20px;\"><div class=\"our-team\"><div class=\"pic\"><img id=\"myImage4278\" src=\"/Images/Profile/EE/4278.jpg\"></div><div class=\"team-content\"><h3 class=\"title\">Arshad Hassan Khan</h3><span class=\"post\">Associate Professor</span> <p>arshad.hassan@nu.edu.pk</p><br></div><ul class=\"social\"><li><a href=\"/Faculty/Details/4278\" target=\"_blank\" style=\"font-style: italic;\">More...</a></li></ul></div></div><div class=\"col-lg-3 col-md-6 col-sm-6\" style=\"margin-top:20px;\"><div class=\"our-team\"><div class=\"pic\"><img id=\"myImage4283\" src=\"/Images/Profile/EE/4283.jpg\"></div><div class=\"team-content\"><h3 class=\"title\">Aamer Hafeez</h3><span class=\"post\">Assistant Professor</span> <p>aamer.hafeez@nu.edu.pk</p><br></div><ul class=\"social\"><li><a href=\"/Faculty/Details/4283\" target=\"_blank\" style=\"font-style: italic;\">More...</a></li></ul></div></div><div class=\"col-lg-3 col-md-6 col-sm-6\" style=\"margin-top:20px;\"><div class=\"our-team\"><div class=\"pic\"><img id=\"myImage4340\" src=\"/Images/Profile/EE/4340.jpg\"></div><div class=\"team-content\"><h3 class=\"title\">Sana Hassan</h3><span class=\"post\">Assistant Professor</span> <p>sana.hassan@nu.edu.pk</p><br></div><ul class=\"social\"><li><a href=\"/Faculty/Details/4340\" target=\"_blank\" style=\"font-style: italic;\">More...</a></li></ul></div></div><div class=\"col-lg-3 col-md-6 col-sm-6\" style=\"margin-top:20px;\"><div class=\"our-team\"><div class=\"pic\"><img id=\"myImage3441\" src=\"/Images/Profile/EE/3441.jpg\"></div><div class=\"team-content\"><h3 class=\"title\">Aamer Munir</h3><span class=\"post\">Assistant Professor</span> <p>aamer.munir@nu.edu.pk</p><br></div><ul class=\"social\"><li><a href=\"/Faculty/Details/3441\" target=\"_blank\" style=\"font-style: italic;\">More...</a></li></ul></div></div><div class=\"col-lg-3 col-md-6 col-sm-6\" style=\"margin-top:20px;\"><div class=\"our-team\"><div class=\"pic\"><img id=\"myImage3625\" src=\"/Images/Profile/EE/3625.jpg\"></div><div class=\"team-content\"><h3 class=\"title\">Farhan Khalid</h3><span class=\"post\">Assistant Professor</span> <p>farhan.khalid@nu.edu.pk</p><br></div><ul class=\"social\"><li><a href=\"/Faculty/Details/3625\" target=\"_blank\" style=\"font-style: italic;\">More...</a></li></ul></div></div><div class=\"col-lg-3 col-md-6 col-sm-6\" style=\"margin-top:20px;\"><div class=\"our-team\"><div class=\"pic\"><img id=\"myImage3707\" src=\"/Images/Profile/EE/3707.jpg\"></div><div class=\"team-content\"><h3 class=\"title\">Azhar Rauf</h3><span class=\"post\">Assistant Professor</span> <p>azhar.rauf@nu.edu.pk</p><br></div><ul class=\"social\"><li><a href=\"/Faculty/Details/3707\" target=\"_blank\" style=\"font-style: italic;\">More...</a></li></ul></div></div><div class=\"col-lg-3 col-md-6 col-sm-6\" style=\"margin-top:20px;\"><div class=\"our-team\"><div class=\"pic\"><img id=\"myImage3730\" src=\"/Images/Profile/EE/3730.jpg\"></div><div class=\"team-content\"><h3 class=\"title\">Shahid Qureshi</h3><span class=\"post\">Assistant Professor</span> <p>shahid.qureshi@nu.edu.pk</p><br></div><ul class=\"social\"><li><a href=\"/Faculty/Details/3730\" target=\"_blank\" style=\"font-style: italic;\">More...</a></li></ul></div></div><div class=\"col-lg-3 col-md-6 col-sm-6\" style=\"margin-top:20px;\"><div class=\"our-team\"><div class=\"pic\"><img id=\"myImage4141\" src=\"/Images/Profile/EE/4141.jpg\"></div><div class=\"team-content\"><h3 class=\"title\">Muhammad Saeed</h3><span class=\"post\">Assistant Professor</span> <p>muhammad.saeed@nu.edu.pk</p><br></div><ul class=\"social\"><li><a href=\"/Faculty/Details/4141\" target=\"_blank\" style=\"font-style: italic;\">More...</a></li></ul></div></div><div class=\"col-lg-3 col-md-6 col-sm-6\" style=\"margin-top:20px;\"><div class=\"our-team\"><div class=\"pic\"><img id=\"myImage4738\" src=\"/Images/Profile/EE/4738.jpg\"></div><div class=\"team-content\"><h3 class=\"title\">Shahzad Saleem</h3><span class=\"post\">Assistant Professor</span> <p>shahzad.saleem@nu.edu.pk</p><br></div><ul class=\"social\"><li><a href=\"/Faculty/Details/4738\" target=\"_blank\" style=\"font-style: italic;\">More...</a></li></ul></div></div><div class=\"col-lg-3 col-md-6 col-sm-6\" style=\"margin-top:20px;\"><div class=\"our-team\"><div class=\"pic\"><img id=\"myImage3844\" src=\"/Images/Profile/EE/3844.jpg\"></div><div class=\"team-content\"><h3 class=\"title\">Shehzad Ahmad</h3><span class=\"post\">Assistant Professor</span> <p>shehzad.ahmad@nu.edu.pk</p><br></div><ul class=\"social\"><li><a href=\"/Faculty/Details/3844\" target=\"_blank\" style=\"font-style: italic;\">More...</a></li></ul></div></div><div class=\"col-lg-3 col-md-6 col-sm-6\" style=\"margin-top:20px;\"><div class=\"our-team\"><div class=\"pic\"><img id=\"myImage3990\" src=\"/Images/Profile/EE/3990.jpg\"></div><div class=\"team-content\"><h3 class=\"title\">M. Ibrar Khan</h3><span class=\"post\">Assistant Professor</span> <p>ibrar.khan@nu.edu.pk</p><br></div><ul class=\"social\"><li><a href=\"/Faculty/Details/3990\" target=\"_blank\" style=\"font-style: italic;\">More...</a></li></ul></div></div><div class=\"col-lg-3 col-md-6 col-sm-6\" style=\"margin-top:20px;\"><div class=\"our-team\"><div class=\"pic\"><img id=\"myImage4518\" src=\"/Images/Profile/EE/4518.jpg\"></div><div class=\"team-content\"><h3 class=\"title\">Waqas Bin Abbas</h3><span class=\"post\">Assistant Professor</span> <p>waqas.abbas@nu.edu.pk</p><br></div><ul class=\"social\"><li><a href=\"/Faculty/Details/4518\" target=\"_blank\" style=\"font-style: italic;\">More...</a></li></ul></div></div><div class=\"col-lg-3 col-md-6 col-sm-6\" style=\"margin-top:20px;\"><div class=\"our-team\"><div class=\"pic\"><img id=\"myImage5620\" src=\"/Images/Profile/EE/5620.jpg\"></div><div class=\"team-content\"><h3 class=\"title\">Muhammad Jafar</h3><span class=\"post\">Assistant Professor</span> <p>muhammad.jafar@nu.edu.pk</p><br></div><ul class=\"social\"><li><a href=\"/Faculty/Details/5620\" target=\"_blank\" style=\"font-style: italic;\">More...</a></li></ul></div></div><div class=\"col-lg-3 col-md-6 col-sm-6\" style=\"margin-top:20px;\"><div class=\"our-team\"><div class=\"pic\"><img id=\"myImage5953\" src=\"/Images/user/avatar_2x.png\"></div><div class=\"team-content\"><h3 class=\"title\">Hassan Saif</h3><span class=\"post\">Assistant Professor</span> <p>hassan.saif@nu.edu.pk</p><br></div><ul class=\"social\"><li><a href=\"/Faculty/Details/5953\" target=\"_blank\" style=\"font-style: italic;\">More...</a></li></ul></div></div><div class=\"col-lg-3 col-md-6 col-sm-6\" style=\"margin-top:20px;\"><div class=\"our-team\"><div class=\"pic\"><img id=\"myImage5055\" src=\"/Images/Profile/EE/5055.jpg\"></div><div class=\"team-content\"><h3 class=\"title\">Sana Saleh</h3><span class=\"post\">Lecturer</span> <p>sana.saleh@nu.edu.pk</p><br></div><ul class=\"social\"><li><a href=\"/Faculty/Details/5055\" target=\"_blank\" style=\"font-style: italic;\">More...</a></li></ul></div></div><div class=\"col-lg-3 col-md-6 col-sm-6\" style=\"margin-top:20px;\"><div class=\"our-team\"><div class=\"pic\"><img id=\"myImage9136\" src=\"/Images/Profile/EE/9136.jpg\"></div><div class=\"team-content\"><h3 class=\"title\">Moomal Bukhari</h3><span class=\"post\">Lecturer</span> <p>moomal.bukhari@nu.edu.pk</p><br></div><ul class=\"social\"><li><a href=\"/Faculty/Details/9136\" target=\"_blank\" style=\"font-style: italic;\">More...</a></li></ul></div></div><div class=\"col-lg-3 col-md-6 col-sm-6\" style=\"margin-top:20px;\"><div class=\"our-team\"><div class=\"pic\"><img id=\"myImage9389\" src=\"/Images/Profile/EE/9389.jpg\"></div><div class=\"team-content\"><h3 class=\"title\">Maria Nasir</h3><span class=\"post\">Lecturer</span> <p>maria.nasir@nu.edu.pk</p><br></div><ul class=\"social\"><li><a href=\"/Faculty/Details/9389\" target=\"_blank\" style=\"font-style: italic;\">More...</a></li></ul></div></div><div class=\"col-lg-3 col-md-6 col-sm-6\" style=\"margin-top:20px;\"><div class=\"our-team\"><div class=\"pic\"><img id=\"myImage5502\" src=\"/Images/Profile/EE/5502.jpg\"></div><div class=\"team-content\"><h3 class=\"title\">Ifrah Maqsood</h3><span class=\"post\">Lab Engineer</span> <p>ifrah.maqsood@nu.edu.pk</p><br></div><ul class=\"social\"><li><a href=\"/Faculty/Details/5502\" target=\"_blank\" style=\"font-style: italic;\">More...</a></li></ul></div></div><div class=\"col-lg-3 col-md-6 col-sm-6\" style=\"margin-top:20px;\"><div class=\"our-team\"><div class=\"pic\"><img id=\"myImage4669\" src=\"/Images/Profile/EE/4669.jpg\"></div><div class=\"team-content\"><h3 class=\"title\">Fakhar Abbas</h3><span class=\"post\">Lab Engineer</span> <p>fakhar.abbas@nu.edu.pk</p><br></div><ul class=\"social\"><li><a href=\"/Faculty/Details/4669\" target=\"_blank\" style=\"font-style: italic;\">More...</a></li></ul></div></div><div class=\"col-lg-3 col-md-6 col-sm-6\" style=\"margin-top:20px;\"><div class=\"our-team\"><div class=\"pic\"><img id=\"myImage5391\" src=\"/Images/Profile/EE/5391.jpg\"></div><div class=\"team-content\"><h3 class=\"title\">Soha Saqib</h3><span class=\"post\">Assistant Manager Academics</span> <p>soha.saqib@nu.edu.pk</p><br></div><ul class=\"social\"><li><a href=\"/Faculty/Details/5391\" target=\"_blank\" style=\"font-style: italic;\">More...</a></li></ul></div></div><div class=\"col-lg-3 col-md-6 col-sm-6\" style=\"margin-top:20px;\"><div class=\"our-team\"><div class=\"pic\"><img id=\"myImage5030\" src=\"/Images/Profile/EE/5030.jpg\"></div><div class=\"team-content\"><h3 class=\"title\">Kashif Islam</h3><span class=\"post\">Assistant Manager (EE Labs)</span> <p>kashif.islam@nu.edu.pk</p><br></div><ul class=\"social\"><li><a href=\"/Faculty/Details/5030\" target=\"_blank\" style=\"font-style: italic;\">More...</a></li></ul></div></div><div class=\"col-lg-3 col-md-6 col-sm-6\" style=\"margin-top:20px;\"><div class=\"our-team\"><div class=\"pic\"><img id=\"myImage4133\" src=\"/Images/Profile/EE/4133.jpg\"></div><div class=\"team-content\"><h3 class=\"title\">M. Atif Baig</h3><span class=\"post\">Deputy Manager (Coordination)</span> <p>atif.baig@nu.edu.pk</p><br></div><ul class=\"social\"><li><a href=\"/Faculty/Details/4133\" target=\"_blank\" style=\"font-style: italic;\">More...</a></li></ul></div></div><div class=\"col-lg-3 col-md-6 col-sm-6\" style=\"margin-top:20px;\"><div class=\"our-team\"><div class=\"pic\"><img id=\"myImage4737\" src=\"/Images/Profile/EE/4737.jpg\"></div><div class=\"team-content\"><h3 class=\"title\">Ahsan Iqbal Khan</h3><span class=\"post\">Lab Supervisor</span> <p>Ahsan.iqbal@nu.edu.pk</p><br></div><ul class=\"social\"><li><a href=\"/Faculty/Details/4737\" target=\"_blank\" style=\"font-style: italic;\">More...</a></li></ul></div></div><div class=\"col-lg-3 col-md-6 col-sm-6\" style=\"margin-top:20px;\"><div class=\"our-team\"><div class=\"pic\"><img id=\"myImage4456\" src=\"/Images/Profile/EE/4456.jpg\"></div><div class=\"team-content\"><h3 class=\"title\">Saqib Shahbaz Raja</h3><span class=\"post\">Lab Supervisor</span> <p>saqib.shahbaz@nu.edu.pk</p><br></div><ul class=\"social\"><li><a href=\"/Faculty/Details/4456\" target=\"_blank\" style=\"font-style: italic;\">More...</a></li></ul></div></div><div class=\"col-lg-3 col-md-6 col-sm-6\" style=\"margin-top:20px;\"><div class=\"our-team\"><div class=\"pic\"><img id=\"myImage9199\" src=\"/Images/Profile/EE/9199.jpg\"></div><div class=\"team-content\"><h3 class=\"title\">Muhammad Younas</h3><span class=\"post\">Lab Supervisor</span> <p>muhammad.younas@nu.edu.pk</p><br></div><ul class=\"social\"><li><a href=\"/Faculty/Details/9199\" target=\"_blank\" style=\"font-style: italic;\">More...</a></li></ul></div></div><div class=\"col-lg-3 col-md-6 col-sm-6\" style=\"margin-top:20px;\"><div class=\"our-team\"><div class=\"pic\"><img id=\"myImage5376\" src=\"/Images/Profile/EE/5376.jpg\"></div><div class=\"team-content\"><h3 class=\"title\">Ghulam Nabi</h3><span class=\"post\">Lab Technician </span> <p>ghulam.nabi@nu.edu.pk</p><br></div><ul class=\"social\"><li><a href=\"/Faculty/Details/5376\" target=\"_blank\" style=\"font-style: italic;\">More...</a></li></ul></div></div><div class=\"col-lg-3 col-md-6 col-sm-6\" style=\"margin-top:20px;\"><div class=\"our-team\"><div class=\"pic\"><img id=\"myImage4455\" src=\"/Images/Profile/EE/4455.jpg\"></div><div class=\"team-content\"><h3 class=\"title\">Rizwan Javed</h3><span class=\"post\">Lab Assistant</span> <p>rizwan.javed@nu.edu.pk</p><br></div><ul class=\"social\"><li><a href=\"/Faculty/Details/4455\" target=\"_blank\" style=\"font-style: italic;\">More...</a></li></ul></div></div><div class=\"col-lg-3 col-md-6 col-sm-6\" style=\"margin-top:20px;\"><div class=\"our-team\"><div class=\"pic\"><img id=\"myImage5288\" src=\"/Images/Profile/EE/5288.jpg\"></div><div class=\"team-content\"><h3 class=\"title\">Uzair Uddin Farooqi </h3><span class=\"post\">Academic Officer</span> <p>uzair.farooqi@nu.edu.pk</p><br></div><ul class=\"social\"><li><a href=\"/Faculty/Details/5288\" target=\"_blank\" style=\"font-style: italic;\">More...</a></li></ul></div></div><div class=\"col-lg-3 col-md-6 col-sm-6\" style=\"margin-top:20px;\"><div class=\"our-team\"><div class=\"pic\"><img id=\"myImage3739\" src=\"/Images/Profile/EE/3739.jpg\"></div><div class=\"team-content\"><h3 class=\"title\">Muhammad Tariq</h3><span class=\"post\">Assistant Academic Officer</span> <p>malik.tariq@nu.edu.pk</p><br></div><ul class=\"social\"><li><a href=\"/Faculty/Details/3739\" target=\"_blank\" style=\"font-style: italic;\">More...</a></li></ul></div></div><div class=\"col-lg-3 col-md-6 col-sm-6\" style=\"margin-top:20px;\"><div class=\"our-team\"><div class=\"pic\"><img id=\"myImage6376\" src=\"/Images/Profile/CS/6376.jpg\"></div><div class=\"team-content\"><h3 class=\"title\">Nimra Fatima\n",
    "</h3><span class=\"post\">Lab Engineer</span> <p>nimra.fatima@nu.edu.pk</p><br></div><ul class=\"social\"><li><a href=\"/Faculty/Details/6376\" target=\"_blank\" style=\"font-style: italic;\">More...</a></li></ul></div></div></div>\n",
    "                <br>\n",
    "            </div>\n",
    "        </div>\n",
    "    </div>\n",
    "\n",
    "    <div class=\"container\" style=\"margin-top: 25px;\" id=\"ms\">\n",
    "        <div class=\"row blog\">\n",
    "            <h3>\n",
    "                <div class=\"animated fadeInLeft\">Management Sciences</div>\n",
    "                <div class=\"animated fadeInRight\">Faculty</div>\n",
    "            </h3>\n",
    "            <div class=\"col-md-12\">\n",
    "                <div class=\"row\" id=\"facultyMS\"><div class=\"col-lg-3 col-md-6 col-sm-6\" style=\"margin-top:20px;\"><div class=\"our-team\"><div class=\"pic\"><img id=\"myImage3813\" src=\"/Images/Profile/FSM/38132020-05-20, 23.16.54.jpg\"></div><div class=\"team-content\"><h3 class=\"title\">Sadia Nadeem</h3><span class=\"post\">HOD &amp; Professor</span> <p>sadia.nadeem@nu.edu.pk</p><br></div><ul class=\"social\"><li><a href=\"/Faculty/Details/3813\" target=\"_blank\" style=\"font-style: italic;\">More...</a></li></ul></div></div><div class=\"col-lg-3 col-md-6 col-sm-6\" style=\"margin-top:20px;\"><div class=\"our-team\"><div class=\"pic\"><img id=\"myImage9490\" src=\"/Images/Profile/FSM/9490.jpg\"></div><div class=\"team-content\"><h3 class=\"title\">Ayub Siddiqui</h3><span class=\"post\">Professor (Dean Faculty of FSM)</span> <p>ayub.siddiqui@nu.edu.pk</p><br></div><ul class=\"social\"><li><a href=\"/Faculty/Details/9490\" target=\"_blank\" style=\"font-style: italic;\">More...</a></li></ul></div></div><div class=\"col-lg-3 col-md-6 col-sm-6\" style=\"margin-top:20px;\"><div class=\"our-team\"><div class=\"pic\"><img id=\"myImage5615\" src=\"/Images/Profile/FSM/5615.jpg\"></div><div class=\"team-content\"><h3 class=\"title\">Haider Ali</h3><span class=\"post\">Associate Professor</span> <p>haider.ali@nu.edu.pk</p><br></div><ul class=\"social\"><li><a href=\"/Faculty/Details/5615\" target=\"_blank\" style=\"font-style: italic;\">More...</a></li></ul></div></div><div class=\"col-lg-3 col-md-6 col-sm-6\" style=\"margin-top:20px;\"><div class=\"our-team\"><div class=\"pic\"><img id=\"myImage5616\" src=\"/Images/Profile/FSM/5616.jpg\"></div><div class=\"team-content\"><h3 class=\"title\">Adnan Shoaib</h3><span class=\"post\">Associate Professor</span> <p>adnan.shoaib@nu.edu.pk</p><br></div><ul class=\"social\"><li><a href=\"/Faculty/Details/5616\" target=\"_blank\" style=\"font-style: italic;\">More...</a></li></ul></div></div><div class=\"col-lg-3 col-md-6 col-sm-6\" style=\"margin-top:20px;\"><div class=\"our-team\"><div class=\"pic\"><img id=\"myImage9488\" src=\"/Images/Profile/FSM/9488.jpg\"></div><div class=\"team-content\"><h3 class=\"title\">Muhammad Abbas</h3><span class=\"post\">Associate Professor</span> <p>muhammad.abbas@nu.edu.pk</p><br></div><ul class=\"social\"><li><a href=\"/Faculty/Details/9488\" target=\"_blank\" style=\"font-style: italic;\">More...</a></li></ul></div></div><div class=\"col-lg-3 col-md-6 col-sm-6\" style=\"margin-top:20px;\"><div class=\"our-team\"><div class=\"pic\"><img id=\"myImage6043\" src=\"/Images/Profile/FSM/6443.jpg\"></div><div class=\"team-content\"><h3 class=\"title\">Muhammad Yasir </h3><span class=\"post\">Assistant Professor</span> <p>m.yasir@nu.edu.pk</p><br></div><ul class=\"social\"><li><a href=\"/Faculty/Details/6043\" target=\"_blank\" style=\"font-style: italic;\">More...</a></li></ul></div></div><div class=\"col-lg-3 col-md-6 col-sm-6\" style=\"margin-top:20px;\"><div class=\"our-team\"><div class=\"pic\"><img id=\"myImage9133\" src=\"/Images/Profile/FSM/9133.jpg\"></div><div class=\"team-content\"><h3 class=\"title\">Falak Khan</h3><span class=\"post\">Assistant Professor</span> <p>falak.khan@nu.edu.pk</p><br></div><ul class=\"social\"><li><a href=\"/Faculty/Details/9133\" target=\"_blank\" style=\"font-style: italic;\">More...</a></li></ul></div></div><div class=\"col-lg-3 col-md-6 col-sm-6\" style=\"margin-top:20px;\"><div class=\"our-team\"><div class=\"pic\"><img id=\"myImage9141\" src=\"/Images/Profile/FSM/9141.jpg\"></div><div class=\"team-content\"><h3 class=\"title\">Shuja ul Islam</h3><span class=\"post\">Assistant Professor</span> <p>shujaul.islam@nu.edu.pk</p><br></div><ul class=\"social\"><li><a href=\"/Faculty/Details/9141\" target=\"_blank\" style=\"font-style: italic;\">More...</a></li></ul></div></div><div class=\"col-lg-3 col-md-6 col-sm-6\" style=\"margin-top:20px;\"><div class=\"our-team\"><div class=\"pic\"><img id=\"myImage9151\" src=\"/Images/Profile/FSM/9151.JPG\"></div><div class=\"team-content\"><h3 class=\"title\">Usman Zafar Chaudhry</h3><span class=\"post\">Assistant Professor</span> <p>usman.chaudhry@nu.edu.pk</p><br></div><ul class=\"social\"><li><a href=\"/Faculty/Details/9151\" target=\"_blank\" style=\"font-style: italic;\">More...</a></li></ul></div></div><div class=\"col-lg-3 col-md-6 col-sm-6\" style=\"margin-top:20px;\"><div class=\"our-team\"><div class=\"pic\"><img id=\"myImage9337\" src=\"/Images/Profile/FSM/9337.jpg\"></div><div class=\"team-content\"><h3 class=\"title\">Hammad Majeed</h3><span class=\"post\">Assistant Professor</span> <p>h.majeed@nu.edu.pk</p><br></div><ul class=\"social\"><li><a href=\"/Faculty/Details/9337\" target=\"_blank\" style=\"font-style: italic;\">More...</a></li></ul></div></div><div class=\"col-lg-3 col-md-6 col-sm-6\" style=\"margin-top:20px;\"><div class=\"our-team\"><div class=\"pic\"><img id=\"myImage4398\" src=\"/Images/Profile/FSM/43982020-06-10_22.10.51.jpg\"></div><div class=\"team-content\"><h3 class=\"title\">Sarah Khan</h3><span class=\"post\">Assistant Professor</span> <p>sara.khan@nu.edu.pk</p><br></div><ul class=\"social\"><li><a href=\"/Faculty/Details/4398\" target=\"_blank\" style=\"font-style: italic;\">More...</a></li></ul></div></div><div class=\"col-lg-3 col-md-6 col-sm-6\" style=\"margin-top:20px;\"><div class=\"our-team\"><div class=\"pic\"><img id=\"myImage4589\" src=\"/Images/Profile/FSM/4589.jpg\"></div><div class=\"team-content\"><h3 class=\"title\">Ayesha Bano</h3><span class=\"post\">Assistant Professor</span> <p>ayesha.bano@nu.edu.pk</p><br></div><ul class=\"social\"><li><a href=\"/Faculty/Details/4589\" target=\"_blank\" style=\"font-style: italic;\">More...</a></li></ul></div></div><div class=\"col-lg-3 col-md-6 col-sm-6\" style=\"margin-top:20px;\"><div class=\"our-team\"><div class=\"pic\"><img id=\"myImage5197\" src=\"/Images/Profile/FSM/51972020-05-31, 22.05.10.jpg\"></div><div class=\"team-content\"><h3 class=\"title\">Aftab Bhatti</h3><span class=\"post\">Assistant Professor</span> <p>aftab.bhatti@nu.edu.pk</p><br></div><ul class=\"social\"><li><a href=\"/Faculty/Details/5197\" target=\"_blank\" style=\"font-style: italic;\">More...</a></li></ul></div></div><div class=\"col-lg-3 col-md-6 col-sm-6\" style=\"margin-top:20px;\"><div class=\"our-team\"><div class=\"pic\"><img id=\"myImage5331\" src=\"/Images/Profile/FSM/53312020-05-29, 06.03.08.jpg\"></div><div class=\"team-content\"><h3 class=\"title\">Abdul Wahab</h3><span class=\"post\">Assistant Professor</span> <p>abdulwahab@nu.edu.pk</p><br></div><ul class=\"social\"><li><a href=\"/Faculty/Details/5331\" target=\"_blank\" style=\"font-style: italic;\">More...</a></li></ul></div></div><div class=\"col-lg-3 col-md-6 col-sm-6\" style=\"margin-top:20px;\"><div class=\"our-team\"><div class=\"pic\"><img id=\"myImage5332\" src=\"/Images/Profile/FSM/5332.jpg\"></div><div class=\"team-content\"><h3 class=\"title\">Muhammad Akhtar</h3><span class=\"post\">Assistant Professor</span> <p>muhammad.akhtar@nu.edu.pk</p><br></div><ul class=\"social\"><li><a href=\"/Faculty/Details/5332\" target=\"_blank\" style=\"font-style: italic;\">More...</a></li></ul></div></div><div class=\"col-lg-3 col-md-6 col-sm-6\" style=\"margin-top:20px;\"><div class=\"our-team\"><div class=\"pic\"><img id=\"myImage5333\" src=\"/Images/Profile/FSM/5333.jpg\"></div><div class=\"team-content\"><h3 class=\"title\">Muhammad Bilal Saeed</h3><span class=\"post\">Assistant Professor</span> <p>bilalsaeed@nu.edu.pk</p><br></div><ul class=\"social\"><li><a href=\"/Faculty/Details/5333\" target=\"_blank\" style=\"font-style: italic;\">More...</a></li></ul></div></div><div class=\"col-lg-3 col-md-6 col-sm-6\" style=\"margin-top:20px;\"><div class=\"our-team\"><div class=\"pic\"><img id=\"myImage5357\" src=\"/Images/Profile/FSM/5357.jpg\"></div><div class=\"team-content\"><h3 class=\"title\">Muhammad Hassaan </h3><span class=\"post\">Assistant Professor</span> <p>muhammad.hassaan@nu.edu.pk</p><br></div><ul class=\"social\"><li><a href=\"/Faculty/Details/5357\" target=\"_blank\" style=\"font-style: italic;\">More...</a></li></ul></div></div><div class=\"col-lg-3 col-md-6 col-sm-6\" style=\"margin-top:20px;\"><div class=\"our-team\"><div class=\"pic\"><img id=\"myImage5441\" src=\"/Images/Profile/FSM/5441.jpg\"></div><div class=\"team-content\"><h3 class=\"title\">Amna Arsalan Farooqui</h3><span class=\"post\">Assistant Professor</span> <p>amna.farooqui@nu.edu.pk</p><br></div><ul class=\"social\"><li><a href=\"/Faculty/Details/5441\" target=\"_blank\" style=\"font-style: italic;\">More...</a></li></ul></div></div><div class=\"col-lg-3 col-md-6 col-sm-6\" style=\"margin-top:20px;\"><div class=\"our-team\"><div class=\"pic\"><img id=\"myImage5334\" src=\"/Images/Profile/FSM/53342020-06-15_08.48.17.jpg\"></div><div class=\"team-content\"><h3 class=\"title\">Rehan Aftab</h3><span class=\"post\">Lecturer</span> <p>rehan.aftab@nu.edu.pk</p><br></div><ul class=\"social\"><li><a href=\"/Faculty/Details/5334\" target=\"_blank\" style=\"font-style: italic;\">More...</a></li></ul></div></div><div class=\"col-lg-3 col-md-6 col-sm-6\" style=\"margin-top:20px;\"><div class=\"our-team\"><div class=\"pic\"><img id=\"myImage5247\" src=\"/Images/Profile/FSM/5247.jpg\"></div><div class=\"team-content\"><h3 class=\"title\">Danial Hasan</h3><span class=\"post\">Lecturer</span> <p>danial.hassan@nu.edu.pk</p><br></div><ul class=\"social\"><li><a href=\"/Faculty/Details/5247\" target=\"_blank\" style=\"font-style: italic;\">More...</a></li></ul></div></div><div class=\"col-lg-3 col-md-6 col-sm-6\" style=\"margin-top:20px;\"><div class=\"our-team\"><div class=\"pic\"><img id=\"myImage5093\" src=\"/Images/Profile/FSM/5093.jpg\"></div><div class=\"team-content\"><h3 class=\"title\">Sidra Abbas</h3><span class=\"post\">Lecturer</span> <p>sidra.abbas@nu.edu.pk</p><br></div><ul class=\"social\"><li><a href=\"/Faculty/Details/5093\" target=\"_blank\" style=\"font-style: italic;\">More...</a></li></ul></div></div><div class=\"col-lg-3 col-md-6 col-sm-6\" style=\"margin-top:20px;\"><div class=\"our-team\"><div class=\"pic\"><img id=\"myImage5141\" src=\"/Images/Profile/FSM/5141.jpg\"></div><div class=\"team-content\"><h3 class=\"title\">Saifullah Khan</h3><span class=\"post\">Lecturer</span> <p>saifullah.khan@nu.edu.pk</p><br></div><ul class=\"social\"><li><a href=\"/Faculty/Details/5141\" target=\"_blank\" style=\"font-style: italic;\">More...</a></li></ul></div></div><div class=\"col-lg-3 col-md-6 col-sm-6\" style=\"margin-top:20px;\"><div class=\"our-team\"><div class=\"pic\"><img id=\"myImage4379\" src=\"/Images/Profile/SH/4379.jpg\"></div><div class=\"team-content\"><h3 class=\"title\">Farah Naz</h3><span class=\"post\">Lecturer</span> <p>farah.naz@nu.edu.pk</p><br></div><ul class=\"social\"><li><a href=\"/Faculty/Details/4379\" target=\"_blank\" style=\"font-style: italic;\">More...</a></li></ul></div></div><div class=\"col-lg-3 col-md-6 col-sm-6\" style=\"margin-top:20px;\"><div class=\"our-team\"><div class=\"pic\"><img id=\"myImage9381\" src=\"/Images/Profile/FSM/9381.jpg\"></div><div class=\"team-content\"><h3 class=\"title\">Mansoor Mushtaq</h3><span class=\"post\">Lecturer</span> <p>mansoor.mushtaq@nu.edu.pk</p><br></div><ul class=\"social\"><li><a href=\"/Faculty/Details/9381\" target=\"_blank\" style=\"font-style: italic;\">More...</a></li></ul></div></div><div class=\"col-lg-3 col-md-6 col-sm-6\" style=\"margin-top:20px;\"><div class=\"our-team\"><div class=\"pic\"><img id=\"myImage5792\" src=\"/Images/Profile/FSM/57922020-06-10_21.58.48.jpg\"></div><div class=\"team-content\"><h3 class=\"title\">Ayesha Yaqoob</h3><span class=\"post\">Lecturer</span> <p>ayesha.yaqoob@nu.edu.pk</p><br></div><ul class=\"social\"><li><a href=\"/Faculty/Details/5792\" target=\"_blank\" style=\"font-style: italic;\">More...</a></li></ul></div></div><div class=\"col-lg-3 col-md-6 col-sm-6\" style=\"margin-top:20px;\"><div class=\"our-team\"><div class=\"pic\"><img id=\"myImage5841\" src=\"/Images/Profile/FSM/5841.JPG\"></div><div class=\"team-content\"><h3 class=\"title\">Mehmood Ur Rehman</h3><span class=\"post\">Lecturer</span> <p>mehmood.rehman@nu.edu.pk</p><br></div><ul class=\"social\"><li><a href=\"/Faculty/Details/5841\" target=\"_blank\" style=\"font-style: italic;\">More...</a></li></ul></div></div><div class=\"col-lg-3 col-md-6 col-sm-6\" style=\"margin-top:20px;\"><div class=\"our-team\"><div class=\"pic\"><img id=\"myImage5318\" src=\"/Images/Profile/FSM/5318.jpg\"></div><div class=\"team-content\"><h3 class=\"title\">Sajjad Hanif</h3><span class=\"post\">Instructor</span> <p>sajjad.hanif@nu.edu.pk</p><br></div><ul class=\"social\"><li><a href=\"/Faculty/Details/5318\" target=\"_blank\" style=\"font-style: italic;\">More...</a></li></ul></div></div><div class=\"col-lg-3 col-md-6 col-sm-6\" style=\"margin-top:20px;\"><div class=\"our-team\"><div class=\"pic\"><img id=\"myImage4656\" src=\"/Images/Profile/CS/4656.jpg\"></div><div class=\"team-content\"><h3 class=\"title\">Tufail Ahmad</h3><span class=\"post\">Assistant Manager Academics</span> <p>tufail.ahmad@nu.edu.pk</p><br></div><ul class=\"social\"><li><a href=\"/Faculty/Details/4656\" target=\"_blank\" style=\"font-style: italic;\">More...</a></li></ul></div></div><div class=\"col-lg-3 col-md-6 col-sm-6\" style=\"margin-top:20px;\"><div class=\"our-team\"><div class=\"pic\"><img id=\"myImage5405\" src=\"/Images/Profile/FSM/5405.jpg\"></div><div class=\"team-content\"><h3 class=\"title\">Jabeen Akhtar</h3><span class=\"post\">Academic Officer</span> <p>jabeen.akhtar@nu.edu.pk</p><br></div><ul class=\"social\"><li><a href=\"/Faculty/Details/5405\" target=\"_blank\" style=\"font-style: italic;\">More...</a></li></ul></div></div><div class=\"col-lg-3 col-md-6 col-sm-6\" style=\"margin-top:20px;\"><div class=\"our-team\"><div class=\"pic\"><img id=\"myImage3536\" src=\"/Images/Profile/FSM/3536.jpg\"></div><div class=\"team-content\"><h3 class=\"title\">Muhammad Shiraz</h3><span class=\"post\">Assistant</span> <p>muhammad.shiraz@nu.edu.pk</p><br></div><ul class=\"social\"><li><a href=\"/Faculty/Details/3536\" target=\"_blank\" style=\"font-style: italic;\">More...</a></li></ul></div></div></div>\n",
    "                <br>\n",
    "            </div>\n",
    "        </div>\n",
    "    </div>\n",
    "\n",
    "\n",
    "    <div class=\"container\" style=\"margin-top: 25px;\" id=\"sh\">\n",
    "        <div class=\"row blog\">\n",
    "            <h3>\n",
    "                <div class=\"animated fadeInLeft\">Science &amp; Humanities</div>\n",
    "                <div class=\"animated fadeInRight\">Faculty</div>\n",
    "            </h3>\n",
    "            <div class=\"col-md-12\">\n",
    "                <div class=\"row\" id=\"facultySH\"><div class=\"col-lg-3 col-md-6 col-sm-6\" style=\"margin-top:20px;\"><div class=\"our-team\"><div class=\"pic\"><img id=\"myImage3938\" src=\"/Images/Profile/SH/3938.jpg\"></div><div class=\"team-content\"><h3 class=\"title\">Khadija Farooq</h3><span class=\"post\">Incharge (Sciences &amp; Humanities) &amp; Assistant Professor</span> <p>khadija.farooq@nu.edu.pk</p><br></div><ul class=\"social\"><li><a href=\"/Faculty/Details/3938\" target=\"_blank\" style=\"font-style: italic;\">More...</a></li></ul></div></div><div class=\"col-lg-3 col-md-6 col-sm-6\" style=\"margin-top:20px;\"><div class=\"our-team\"><div class=\"pic\"><img id=\"myImage4385\" src=\"/Images/Profile/SH/4385.jpg\"></div><div class=\"team-content\"><h3 class=\"title\">Muhammad Tayyeb Nadeem</h3><span class=\"post\">Professor</span> <p>tayyeb.nadeem@nu.edu.pk</p><br></div><ul class=\"social\"><li><a href=\"/Faculty/Details/4385\" target=\"_blank\" style=\"font-style: italic;\">More...</a></li></ul></div></div><div class=\"col-lg-3 col-md-6 col-sm-6\" style=\"margin-top:20px;\"><div class=\"our-team\"><div class=\"pic\"><img id=\"myImage4218\" src=\"/Images/Profile/SH/42182021-01-20_01.32.39.JPG\"></div><div class=\"team-content\"><h3 class=\"title\">M. Usman Ashraf</h3><span class=\"post\">Associate Professor</span> <p>usman.ashraf@nu.edu.pk</p><br></div><ul class=\"social\"><li><a href=\"/Faculty/Details/4218\" target=\"_blank\" style=\"font-style: italic;\">More...</a></li></ul></div></div><div class=\"col-lg-3 col-md-6 col-sm-6\" style=\"margin-top:20px;\"><div class=\"our-team\"><div class=\"pic\"><img id=\"myImage4219\" src=\"/Images/Profile/SH/4219.jpg\"></div><div class=\"team-content\"><h3 class=\"title\">Muhammad Ali</h3><span class=\"post\">Associate Professor</span> <p>m.ali@nu.edu.pk</p><br></div><ul class=\"social\"><li><a href=\"/Faculty/Details/4219\" target=\"_blank\" style=\"font-style: italic;\">More...</a></li></ul></div></div><div class=\"col-lg-3 col-md-6 col-sm-6\" style=\"margin-top:20px;\"><div class=\"our-team\"><div class=\"pic\"><img id=\"myImage4220\" src=\"/Images/Profile/SH/4220.jpg\"></div><div class=\"team-content\"><h3 class=\"title\">Syed Irfan Shah</h3><span class=\"post\">Associate Professor</span> <p>irfan.shah@nu.edu.pk</p><br></div><ul class=\"social\"><li><a href=\"/Faculty/Details/4220\" target=\"_blank\" style=\"font-style: italic;\">More...</a></li></ul></div></div><div class=\"col-lg-3 col-md-6 col-sm-6\" style=\"margin-top:20px;\"><div class=\"our-team\"><div class=\"pic\"><img id=\"myImage9383\" src=\"/Images/Profile/SH/9383.jpg\"></div><div class=\"team-content\"><h3 class=\"title\">Memoona Rasool</h3><span class=\"post\">Assistant Professor</span> <p>maimoona.rasool@nu.edu.pk</p><br></div><ul class=\"social\"><li><a href=\"/Faculty/Details/9383\" target=\"_blank\" style=\"font-style: italic;\">More...</a></li></ul></div></div><div class=\"col-lg-3 col-md-6 col-sm-6\" style=\"margin-top:20px;\"><div class=\"our-team\"><div class=\"pic\"><img id=\"myImage4576\" src=\"/Images/Profile/SH/4576.jpg\"></div><div class=\"team-content\"><h3 class=\"title\">Khalil Ullah</h3><span class=\"post\">Assistant Professor</span> <p>khalil.awan@nu.edu.pk</p><br></div><ul class=\"social\"><li><a href=\"/Faculty/Details/4576\" target=\"_blank\" style=\"font-style: italic;\">More...</a></li></ul></div></div><div class=\"col-lg-3 col-md-6 col-sm-6\" style=\"margin-top:20px;\"><div class=\"our-team\"><div class=\"pic\"><img id=\"myImage5248\" src=\"/Images/Profile/SH/5248.jpg\"></div><div class=\"team-content\"><h3 class=\"title\">Hamda Khan</h3><span class=\"post\">Assistant Professor</span> <p>hamda.khan@nu.edu.pk</p><br></div><ul class=\"social\"><li><a href=\"/Faculty/Details/5248\" target=\"_blank\" style=\"font-style: italic;\">More...</a></li></ul></div></div><div class=\"col-lg-3 col-md-6 col-sm-6\" style=\"margin-top:20px;\"><div class=\"our-team\"><div class=\"pic\"><img id=\"myImage3442\" src=\"/Images/Profile/SH/3442.jpg\"></div><div class=\"team-content\"><h3 class=\"title\">Shahzad Mahmood</h3><span class=\"post\">Assistant Professor</span> <p>shahzad.mahmood@nu.edu.pk</p><br></div><ul class=\"social\"><li><a href=\"/Faculty/Details/3442\" target=\"_blank\" style=\"font-style: italic;\">More...</a></li></ul></div></div><div class=\"col-lg-3 col-md-6 col-sm-6\" style=\"margin-top:20px;\"><div class=\"our-team\"><div class=\"pic\"><img id=\"myImage3940\" src=\"/Images/Profile/SH/3940.jpg\"></div><div class=\"team-content\"><h3 class=\"title\">Aisha Ijaz</h3><span class=\"post\">Assistant Professor</span> <p>aisha.ijaz@nu.edu.pk</p><br></div><ul class=\"social\"><li><a href=\"/Faculty/Details/3940\" target=\"_blank\" style=\"font-style: italic;\">More...</a></li></ul></div></div><div class=\"col-lg-3 col-md-6 col-sm-6\" style=\"margin-top:20px;\"><div class=\"our-team\"><div class=\"pic\"><img id=\"myImage4127\" src=\"/Images/Profile/SH/4127.jpg\"></div><div class=\"team-content\"><h3 class=\"title\">Mehwish Hassan</h3><span class=\"post\">Assistant Professor</span> <p>mehwish.hassan@nu.edu.pk</p><br></div><ul class=\"social\"><li><a href=\"/Faculty/Details/4127\" target=\"_blank\" style=\"font-style: italic;\">More...</a></li></ul></div></div><div class=\"col-lg-3 col-md-6 col-sm-6\" style=\"margin-top:20px;\"><div class=\"our-team\"><div class=\"pic\"><img id=\"myImage4214\" src=\"/Images/Profile/SH/4214.jpg\"></div><div class=\"team-content\"><h3 class=\"title\">Farah Jabeen Awan</h3><span class=\"post\">Assistant Professor</span> <p>farah.awan@nu.edu.pk</p><br></div><ul class=\"social\"><li><a href=\"/Faculty/Details/4214\" target=\"_blank\" style=\"font-style: italic;\">More...</a></li></ul></div></div><div class=\"col-lg-3 col-md-6 col-sm-6\" style=\"margin-top:20px;\"><div class=\"our-team\"><div class=\"pic\"><img id=\"myImage5354\" src=\"/Images/Profile/SH/5354.jpg\"></div><div class=\"team-content\"><h3 class=\"title\">Sehrish Hassan Shigri</h3><span class=\"post\">Lecturer</span> <p>sehrish.hassan@nu.edu.pk</p><br></div><ul class=\"social\"><li><a href=\"/Faculty/Details/5354\" target=\"_blank\" style=\"font-style: italic;\">More...</a></li></ul></div></div><div class=\"col-lg-3 col-md-6 col-sm-6\" style=\"margin-top:20px;\"><div class=\"our-team\"><div class=\"pic\"><img id=\"myImage5898\" src=\"/Images/user/avatar_2x.png\"></div><div class=\"team-content\"><h3 class=\"title\">Sana Ilyas</h3><span class=\"post\">Lecturer</span> <p>sanaa.ilyas@nu.edu.pk</p><br></div><ul class=\"social\"><li><a href=\"/Faculty/Details/5898\" target=\"_blank\" style=\"font-style: italic;\">More...</a></li></ul></div></div><div class=\"col-lg-3 col-md-6 col-sm-6\" style=\"margin-top:20px;\"><div class=\"our-team\"><div class=\"pic\"><img id=\"myImage5902\" src=\"/Images/user/avatar_2x.png\"></div><div class=\"team-content\"><h3 class=\"title\">Zunera Malik</h3><span class=\"post\">Lecturer</span> <p>zunaira.malik@nu.edu.pk</p><br></div><ul class=\"social\"><li><a href=\"/Faculty/Details/5902\" target=\"_blank\" style=\"font-style: italic;\">More...</a></li></ul></div></div><div class=\"col-lg-3 col-md-6 col-sm-6\" style=\"margin-top:20px;\"><div class=\"our-team\"><div class=\"pic\"><img id=\"myImage9341\" src=\"/Images/Profile/SH/9341.jpg\"></div><div class=\"team-content\"><h3 class=\"title\">Sadia Nauman</h3><span class=\"post\">Lecturer</span> <p>sadia.nauman@nu.edu.pk</p><br></div><ul class=\"social\"><li><a href=\"/Faculty/Details/9341\" target=\"_blank\" style=\"font-style: italic;\">More...</a></li></ul></div></div><div class=\"col-lg-3 col-md-6 col-sm-6\" style=\"margin-top:20px;\"><div class=\"our-team\"><div class=\"pic\"><img id=\"myImage9529\" src=\"/Images/Profile/SH/9529.jpg\"></div><div class=\"team-content\"><h3 class=\"title\">Sumera Abbas</h3><span class=\"post\">Lecturer</span> <p>sumera.abbas@nu.edu.pk</p><br></div><ul class=\"social\"><li><a href=\"/Faculty/Details/9529\" target=\"_blank\" style=\"font-style: italic;\">More...</a></li></ul></div></div></div>\n",
    "                <br>\n",
    "            </div>\n",
    "        </div>\n",
    "    </div>\n",
    "\t\n",
    "</div>\n",
    "\n",
    "\n",
    "\n",
    "\n",
    "        </div>\n",
    "        <footer>\n",
    "            <div class=\"footer-top m-t40\">\n",
    "                <div class=\"container\">\n",
    "                    <div class=\"row\">\n",
    "                        <div class=\"col-lg-4 col-md-12 col-sm-12 footer-col-4\">\n",
    "                            <center class=\"hiddenxs\">\n",
    "                                <div class=\"widget m-t40\" style=\"margin-bottom:10px!important\">\n",
    "                                    <h5 class=\"footer-title\">Islamabad Campus</h5>\n",
    "                                    <a href=\"\"><img style=\"height:130px;\" src=\"/assets/Images/logo.png\" alt=\"\"></a>\n",
    "                                </div>\n",
    "                            </center>\n",
    "\n",
    "                        </div>\n",
    "                        <div class=\"col-12 col-lg-5 col-md-7 col-sm-12\">\n",
    "                            <div class=\"row\">\n",
    "                                <div class=\"col-6 col-lg-6 col-md-6 col-md-6\">\n",
    "                                    <div class=\"widget footer_widget m-t40\" style=\"margin-bottom:10px!important\">\n",
    "                                        <ul>\n",
    "                                            <li><a target=\"_blank\" href=\"https://flex.nu.edu.pk/\"><i class=\"fa fa-angle-right\"></i> NU FLEX</a></li>\n",
    "                                            <li><a target=\"_blank\" href=\"http://slate.nu.edu.pk/portal\"><i class=\"fa fa-angle-right\"></i> NU SLATE</a></li>\n",
    "                                            <li><a target=\"_blank\" href=\"http://numen.nu.edu.pk/Login\"><i class=\"fa fa-angle-right\"></i> NU NUMUN</a></li>\n",
    "                                        </ul>\n",
    "                                    </div>\n",
    "                                </div>\n",
    "                                <div class=\"col-6 col-lg-6 col-md-6 col-md-6\">\n",
    "                                    <div class=\"widget footer_widget m-t40\" style=\"margin-bottom:10px!important\">\n",
    "                                        <ul>\n",
    "                                            <li><a target=\"_blank\" href=\"http://lhr.nu.edu.pk/\"><i class=\"fa fa-angle-right\"></i> Lahore Campus</a></li>\n",
    "                                            <li><a target=\"_blank\" href=\"http://pwr.nu.edu.pk/\"><i class=\"fa fa-angle-right\"></i> Peshawar Campus</a></li>\n",
    "                                            <li><a target=\"_blank\" href=\"https://khi.nu.edu.pk/\"><i class=\"fa fa-angle-right\"></i> Karachi Campus</a></li>\n",
    "                                            <li><a target=\"_blank\" href=\"http://cfd.nu.edu.pk/\"><i class=\"fa fa-angle-right\"></i> Faisalabad Campus</a></li>\n",
    "                                        </ul>\n",
    "                                    </div>\n",
    "                                </div>\n",
    "                            </div>\n",
    "                        </div>\n",
    "                        <div class=\"col-12 col-lg-3 col-md-5 col-sm-12 footer-col-4\">\n",
    "                            <div class=\"widget widget_gallery gallery-grid-4 m-t40\" style=\"margin-bottom:10px!important\">\n",
    "                                <h5 class=\"footer-title\">Address</h5>\n",
    "                                <p><i class=\"fa fa-address-card\"></i> A.K Brohi Road, H 11/4, Islamabad</p>\n",
    "                                <p><i class=\"fa fa-phone\"></i> 111-128-128</p>\n",
    "\n",
    "                                <li><a target=\"_blank\" href=\"https://web.facebook.com/FastNUIslamabadOfficial\" class=\"btn-link\"><i class=\"fa fa-facebook\"></i></a></li>\n",
    "                                <li><a target=\"_blank\" href=\"https://twitter.com/FastNU_Official\" class=\"btn-link\"><i class=\"fa fa-twitter\"></i></a></li>\n",
    "                                <li><a target=\"_blank\" href=\"https://www.youtube.com/channel/UCGV2HQKLRVo9OTiothZOyWw\" class=\"btn-link\"><i class=\"fa fa-youtube-play\"></i></a></li>\n",
    "                            </div>\n",
    "                        </div>\n",
    "                    </div>\n",
    "                </div>\n",
    "            </div>\n",
    "            <div class=\"footer-bottom\">\n",
    "                <div class=\"container\">\n",
    "                    <div class=\"row\">\n",
    "                        <div class=\"col-lg-12 col-md-12 col-sm-12 text-center\"> <a target=\"_blank\" href=\"http://isb.nu.edu.pk/\">© 2022 Copyright : isb.nu.edu.pk</a></div>\n",
    "                    </div>\n",
    "                </div>\n",
    "            </div>\n",
    "        </footer>\n",
    "        <button class=\"back-to-top fa fa-chevron-up\" style=\"\"></button>\n",
    "    </div>\n",
    "\n",
    "    <script src=\"/bundles/scripts/assets?v=XbWCToIi65O4HQnKg0FuojL8NvC6EoIk6CDketLtSK81\"></script>\n",
    "\n",
    "\n",
    "    <script>\n",
    "        jQuery(document).ready(function () {\n",
    "            var ttrevapi;\n",
    "            var tpj = jQuery;\n",
    "            if (tpj(\"#rev_slider_486_1\").revolution == undefined) {\n",
    "                revslider_showDoubleJqueryError(\"#rev_slider_486_1\");\n",
    "            } else {\n",
    "                ttrevapi = tpj(\"#rev_slider_486_1\").show().revolution({\n",
    "                    sliderType: \"standard\",\n",
    "                    jsFileLocation: \"~/assets/vendors/revolution/js/\",\n",
    "                    sliderLayout: \"fullwidth\",\n",
    "                    dottedOverlay: \"none\",\n",
    "                    delay: 9000,\n",
    "                    navigation: {\n",
    "                        keyboardNavigation: \"on\",\n",
    "                        keyboard_direction: \"horizontal\",\n",
    "                        mouseScrollNavigation: \"off\",\n",
    "                        mouseScrollReverse: \"default\",\n",
    "                        onHoverStop: \"on\",\n",
    "                        touch: {\n",
    "                            touchenabled: \"on\",\n",
    "                            swipe_threshold: 75,\n",
    "                            swipe_min_touches: 1,\n",
    "                            swipe_direction: \"horizontal\",\n",
    "                            drag_block_vertical: false\n",
    "                        }\n",
    "                        ,\n",
    "                        arrows: {\n",
    "                            style: \"uranus\",\n",
    "                            enable: true,\n",
    "                            hide_onmobile: false,\n",
    "                            hide_onleave: false,\n",
    "                            tmp: '',\n",
    "                            left: {\n",
    "                                h_align: \"left\",\n",
    "                                v_align: \"center\",\n",
    "                                h_offset: 10,\n",
    "                                v_offset: 0\n",
    "                            },\n",
    "                            right: {\n",
    "                                h_align: \"right\",\n",
    "                                v_align: \"center\",\n",
    "                                h_offset: 10,\n",
    "                                v_offset: 0\n",
    "                            }\n",
    "                        },\n",
    "\n",
    "                    },\n",
    "                    viewPort: {\n",
    "                        enable: true,\n",
    "                        outof: \"pause\",\n",
    "                        visible_area: \"80%\",\n",
    "                        presize: false\n",
    "                    },\n",
    "                    responsiveLevels: [1240, 1024, 778, 480],\n",
    "                    visibilityLevels: [1240, 1024, 778, 480],\n",
    "                    gridwidth: [1240, 1024, 778, 480],\n",
    "                    gridheight: [768, 600, 600, 600],\n",
    "                    lazyType: \"none\",\n",
    "                    parallax: {\n",
    "                        type: \"scroll\",\n",
    "                        origo: \"enterpoint\",\n",
    "                        speed: 400,\n",
    "                        levels: [5, 10, 15, 20, 25, 30, 35, 40, 45, 50, 46, 47, 48, 49, 50, 55],\n",
    "                        type: \"scroll\",\n",
    "                    },\n",
    "                    shadow: 0,\n",
    "                    spinner: \"off\",\n",
    "                    stopLoop: \"off\",\n",
    "                    stopAfterLoops: -1,\n",
    "                    stopAtSlide: -1,\n",
    "                    shuffle: \"off\",\n",
    "                    autoHeight: \"off\",\n",
    "                    hideThumbsOnMobile: \"off\",\n",
    "                    hideSliderAtLimit: 0,\n",
    "                    hideCaptionAtLimit: 0,\n",
    "                    hideAllCaptionAtLilmit: 0,\n",
    "                    debugMode: false,\n",
    "                    fallbacks: {\n",
    "                        simplifyAll: \"off\",\n",
    "                        nextSlideOnWindowFocus: \"off\",\n",
    "                        disableFocusListener: false,\n",
    "                    }\n",
    "                });\n",
    "            }\n",
    "        });\n",
    "    </script>\n",
    "\n",
    "\n",
    "\n",
    "\n",
    "\n",
    "\n",
    "\n",
    "    <script>\n",
    "        $(\".header\").removeClass('header-transparent');\n",
    "\tlet csCheck = false;\n",
    "\tlet eeCheck = false;\n",
    "\tlet msCheck = false;\n",
    "\tlet shCheck = false;\n",
    "\t\n",
    "        LoadAllData(301,\"facultyCS\");\n",
    "\tLoadAllData(302,\"facultyEE\");\n",
    "\tLoadAllData(303,\"facultyMS\");\n",
    "\tLoadAllData(313,\"facultySH\");\n",
    "        function LoadAllData(departmentId,divID) {\n",
    "\t    console.log(\"\"+departmentId + \" - \"+departmentId);\n",
    "            $.ajax({\n",
    "                type: \"POST\",\n",
    "                url: \"/Faculty/GetAllEmp?id=\"+departmentId,\n",
    "                data: {},\n",
    "                success: function (data) {\n",
    "\n",
    "                    if (data.length > 0) {\n",
    "                        for (var i = 0; i < data.length; i++) {\n",
    "\n",
    "                            if (data[i].IsHod == true) {\n",
    "                                $(\"#\"+divID).append('<div class=\"col-lg-3 col-md-6 col-sm-6\" style=\"margin-top:20px;\">' +\n",
    "                                '<div class=\"our-team\">' +\n",
    "                                    '<div class=\"pic\">' +\n",
    "                                        '<img id=\"myImage' + data[i].Emp_ID + '\"  />' +\n",
    "                                    '</div>' +\n",
    "                                    '<div class=\"team-content\">' +\n",
    "                                        '<h3 class=\"title\">' + data[i].Name + '</h3>' +\n",
    "\n",
    "                                        '<span class=\"post\">HOD & ' + data[i].Designation_Title + '</span>' +\n",
    "                                        ' <p>' + data[i].Email + '</p>' +\n",
    "                                       // '<label><a href=\"/Faculty/Details/' + data[i].Emp_ID + '\" target=\"_blank\" style=\"font-style: italic;\">More...</a></label>' +\n",
    "                                       '<br/>' +\n",
    "                                    '</div>' +\n",
    "                                    '<ul class=\"social\">' +\n",
    "                                        '<li>' +\n",
    "                                            '<a href=\"/Faculty/Details/' + data[i].Emp_ID + '\" target=\"_blank\" style=\"font-style: italic;\">More...</a>' +\n",
    "                                        '</li>' +\n",
    "                                    '</ul>' +\n",
    "                                '</div>');\n",
    "                            } else {\n",
    "                                $(\"#\"+divID).append('<div class=\"col-lg-3 col-md-6 col-sm-6\" style=\"margin-top:20px;\">' +\n",
    "                                '<div class=\"our-team\">' +\n",
    "                                    '<div class=\"pic\">' +\n",
    "                                        '<img id=\"myImage' + data[i].Emp_ID + '\"  />' +\n",
    "                                    '</div>' +\n",
    "                                    '<div class=\"team-content\">' +\n",
    "                                        '<h3 class=\"title\">' + data[i].Name + '</h3>' +\n",
    "\n",
    "                                        '<span class=\"post\">' + data[i].Designation_Title + '</span>' +\n",
    "                                        ' <p>' + data[i].Email + '</p>' +\n",
    "                                        '<br/>' +\n",
    "                                        //'<label><a href=\"/Faculty/Details/' + data[i].Emp_ID + '\" target=\"_blank\" style=\"font-style: italic;\">More...</a></label>' +\n",
    "                                    '</div>' +\n",
    "                                    '<ul class=\"social\">' +\n",
    "                                        '<li>' +\n",
    "                                            '<a href=\"/Faculty/Details/' + data[i].Emp_ID + '\" target=\"_blank\" style=\"font-style: italic;\">More...</a>' +\n",
    "                                        '</li>' +\n",
    "                                    '</ul>' +\n",
    "                                '</div>');\n",
    "                            }\n",
    "\n",
    "\n",
    "                            if (data[i].ImagePath != null) {\n",
    "                                $(\"#myImage\" + data[i].Emp_ID).attr('src', data[i].ImagePath);\n",
    "                            } else {\n",
    "                                $(\"#myImage\" + data[i].Emp_ID).attr('src', '/Images/user/avatar_2x.png');\n",
    "                            }\n",
    "                            if (data[i].Status == \"1\") {\n",
    "                                $(\"#EmpStatus\" + data[i].Emp_ID).text('On Duty').addClass('label label-success');\n",
    "                            }\n",
    "                            if (data[i].Status == \"2\") {\n",
    "                                $(\"#EmpStatus\" + data[i].Emp_ID).text('On Leave').addClass('label label-danger');\n",
    "                            }\n",
    "\n",
    "                        }\n",
    "\t\t\tif(departmentId != 301){\n",
    "\t\t\t \tcsCheck = true;\n",
    "\t\t\t}\n",
    "\t\t\tif(departmentId != 302){\n",
    "\t\t\t \teeCheck = true;\n",
    "\t\t\t}\n",
    "\t\t\tif(departmentId != 303){\n",
    "\t\t\t \tmsCheck = true;\n",
    "\t\t\t}\n",
    "\t\t\tif(departmentId != 313){\n",
    "\t\t\t \tshCheck = true;\n",
    "\t\t\t}\n",
    "\t\t\t\n",
    "                    }\n",
    "                },\n",
    "                error: function (er) {\n",
    "                    alert(\"Connection Error Please retry\");\n",
    "                }\n",
    "            });\n",
    "\n",
    "        }\n",
    "\t\n",
    "\tlet loadInterval = setInterval(function(){\n",
    "\t  if(csCheck && eeCheck && msCheck && shCheck){\n",
    "\t\tlet pageUrl = window.location.hash;\n",
    "\t\tpageUrl = pageUrl.replace(\"#\", \"\");\n",
    "\t\tconsole.log(\"Hash\"+ pageUrl);\n",
    "\t\tif(pageUrl != null && pageUrl != \"\"){\n",
    "\t\t   document.getElementById(pageUrl).scrollIntoView();\n",
    "\t\t}\n",
    "\t\tclearInterval(loadInterval);\n",
    "\t  }\n",
    "\t},1000);\n",
    "    </script>\n",
    "\n",
    "about</body></html>\n",
    "\"\"\""
   ]
  },
  {
   "cell_type": "code",
   "execution_count": 18,
   "id": "736a9002-3ece-4eea-ab72-ded81bb9d7d2",
   "metadata": {
    "tags": []
   },
   "outputs": [],
   "source": [
    "soup = BeautifulSoup(html_content, 'html.parser')"
   ]
  },
  {
   "cell_type": "code",
   "execution_count": 19,
   "id": "afe47b57-704a-4245-afe5-9156c3e0ad61",
   "metadata": {
    "tags": []
   },
   "outputs": [],
   "source": [
    "f = soup.findAll('div', class_='our-team')"
   ]
  },
  {
   "cell_type": "code",
   "execution_count": 20,
   "id": "313ba8b0-6405-429c-b946-a44148baf337",
   "metadata": {
    "tags": []
   },
   "outputs": [],
   "source": [
    "#ID Name Designation HEC Highest Email Department Extension ImageURL\n",
    "id_=[]\n",
    "name=[]\n",
    "desig=[]\n",
    "hec_sup=[]\n",
    "#highest_edu=[]\n",
    "email=[]\n",
    "department=[]\n",
    "extension=[]\n",
    "img=[]\n",
    "profile_url=[]"
   ]
  },
  {
   "cell_type": "code",
   "execution_count": 21,
   "id": "88b356be-6c4d-4cbc-8838-9922c036aa66",
   "metadata": {
    "tags": []
   },
   "outputs": [],
   "source": [
    "for i in range(len(f)):\n",
    "    faculty = f[i]\n",
    "    try:\n",
    "        i=faculty.find('img')\n",
    "        i=str(i).split('id=\"myImage')[1]\n",
    "        i=int(i[0:4])\n",
    "        id_.append(i)\n",
    "    except:\n",
    "        id_.append(-1)\n",
    "    name.append(faculty.find('h3', class_='title').text)\n",
    "    desig.append(faculty.find('span',class_='post').text)\n",
    "    hec_sup.append(-1)\n",
    "    email.append(faculty.find('p').text)\n",
    "    department.append(soup.find('div', class_=\"animated fadeInLeft\").text)\n",
    "    extension.append(-1)\n",
    "    img.append(URL+faculty.find('img',)['src'])\n",
    "    profile_url.append(URL+faculty.find('a',)['href'])"
   ]
  },
  {
   "cell_type": "code",
   "execution_count": 22,
   "id": "a60ed166-3e20-458b-8a5a-203596c31244",
   "metadata": {
    "tags": []
   },
   "outputs": [],
   "source": [
    "df3 = pd.DataFrame({'ID':id_,\n",
    "                  'Name':name,\n",
    "                  'Designation':desig,\n",
    "                  'HEC Supervisor':hec_sup,\n",
    "                  'Email':email,\n",
    "                  'Department':department,\n",
    "                  'Extension':extension,\n",
    "                  'Image':img,\n",
    "                  'Profile URL':profile_url})"
   ]
  },
  {
   "cell_type": "code",
   "execution_count": 23,
   "id": "a0260272-17d2-4d24-a7d6-dda03698d748",
   "metadata": {
    "tags": []
   },
   "outputs": [],
   "source": [
    "df3.to_csv('isb.csv')"
   ]
  },
  {
   "cell_type": "markdown",
   "id": "28914e5f-4c2f-4c63-b46b-0800e0530d97",
   "metadata": {},
   "source": [
    "<h1>Data Frame Concatenation</h1>"
   ]
  },
  {
   "cell_type": "code",
   "execution_count": 24,
   "id": "f18e2b8b-7dd0-4d94-ae4e-04d6714912d8",
   "metadata": {
    "tags": []
   },
   "outputs": [],
   "source": [
    "df4=pd.concat([df1, df2, df3], axis=0)"
   ]
  },
  {
   "cell_type": "code",
   "execution_count": 25,
   "id": "13d473ef-9b1c-44a4-a2c8-687796e9e7ed",
   "metadata": {
    "tags": []
   },
   "outputs": [],
   "source": [
    "df4.to_csv('fast_faculty.csv')"
   ]
  },
  {
   "cell_type": "markdown",
   "id": "737b7f0b-b8d9-43fe-9f86-7d49038c51b0",
   "metadata": {},
   "source": [
    "<h1>Loading CSV to Data Frame</h1>"
   ]
  },
  {
   "cell_type": "code",
   "execution_count": 26,
   "id": "9545e719-2b4d-4158-8d51-a4cce5d441cf",
   "metadata": {
    "tags": []
   },
   "outputs": [],
   "source": [
    "faculty=pd.read_csv('fast_faculty.csv')"
   ]
  },
  {
   "cell_type": "code",
   "execution_count": 27,
   "id": "810d3f3d-ddff-4330-84bf-924d6497bb22",
   "metadata": {
    "tags": []
   },
   "outputs": [],
   "source": [
    "sample_ = faculty.sample(frac=0.1) #roll no = 19L-2721"
   ]
  },
  {
   "cell_type": "code",
   "execution_count": 28,
   "id": "9bd1327f-40e5-420c-b9f3-0fe66284cb03",
   "metadata": {
    "tags": []
   },
   "outputs": [],
   "source": [
    "sample_.to_csv('sample.csv')"
   ]
  }
 ],
 "metadata": {
  "kernelspec": {
   "display_name": "Python 3 (ipykernel)",
   "language": "python",
   "name": "python3"
  },
  "language_info": {
   "codemirror_mode": {
    "name": "ipython",
    "version": 3
   },
   "file_extension": ".py",
   "mimetype": "text/x-python",
   "name": "python",
   "nbconvert_exporter": "python",
   "pygments_lexer": "ipython3",
   "version": "3.11.4"
  }
 },
 "nbformat": 4,
 "nbformat_minor": 5
}
